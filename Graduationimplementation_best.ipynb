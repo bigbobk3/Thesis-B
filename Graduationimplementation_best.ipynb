{
 "cells": [
  {
   "cell_type": "markdown",
   "metadata": {
    "id": "FmBCtTdws2Tv"
   },
   "source": [
    "# **Importing libraries**"
   ]
  },
  {
   "cell_type": "code",
   "execution_count": 44,
   "metadata": {
    "colab": {
     "base_uri": "https://localhost:8080/"
    },
    "id": "hzYUORvJEUpm",
    "outputId": "47720fdd-f798-448c-b1b3-06a4e5e9ca11"
   },
   "outputs": [
    {
     "name": "stdout",
     "output_type": "stream",
     "text": [
      "3.13.2 (v3.13.2:4f8bb3947cf, Feb  4 2025, 11:51:10) [Clang 15.0.0 (clang-1500.3.9.4)]\n",
      "Requirement already satisfied: pytorch-tabnet in /Library/Frameworks/Python.framework/Versions/3.13/lib/python3.13/site-packages (4.1.0)\n",
      "Requirement already satisfied: numpy>=1.17 in /Library/Frameworks/Python.framework/Versions/3.13/lib/python3.13/site-packages (from pytorch-tabnet) (2.2.3)\n",
      "Requirement already satisfied: scikit_learn>0.21 in /Library/Frameworks/Python.framework/Versions/3.13/lib/python3.13/site-packages (from pytorch-tabnet) (1.6.1)\n",
      "Requirement already satisfied: scipy>1.4 in /Library/Frameworks/Python.framework/Versions/3.13/lib/python3.13/site-packages (from pytorch-tabnet) (1.15.2)\n",
      "Requirement already satisfied: torch>=1.3 in /Library/Frameworks/Python.framework/Versions/3.13/lib/python3.13/site-packages (from pytorch-tabnet) (2.6.0)\n",
      "Requirement already satisfied: tqdm>=4.36 in /Library/Frameworks/Python.framework/Versions/3.13/lib/python3.13/site-packages (from pytorch-tabnet) (4.67.1)\n",
      "Requirement already satisfied: joblib>=1.2.0 in /Library/Frameworks/Python.framework/Versions/3.13/lib/python3.13/site-packages (from scikit_learn>0.21->pytorch-tabnet) (1.4.2)\n",
      "Requirement already satisfied: threadpoolctl>=3.1.0 in /Library/Frameworks/Python.framework/Versions/3.13/lib/python3.13/site-packages (from scikit_learn>0.21->pytorch-tabnet) (3.6.0)\n",
      "Requirement already satisfied: filelock in /Library/Frameworks/Python.framework/Versions/3.13/lib/python3.13/site-packages (from torch>=1.3->pytorch-tabnet) (3.18.0)\n",
      "Requirement already satisfied: typing-extensions>=4.10.0 in /Library/Frameworks/Python.framework/Versions/3.13/lib/python3.13/site-packages (from torch>=1.3->pytorch-tabnet) (4.12.2)\n",
      "Requirement already satisfied: networkx in /Library/Frameworks/Python.framework/Versions/3.13/lib/python3.13/site-packages (from torch>=1.3->pytorch-tabnet) (3.4.2)\n",
      "Requirement already satisfied: jinja2 in /Library/Frameworks/Python.framework/Versions/3.13/lib/python3.13/site-packages (from torch>=1.3->pytorch-tabnet) (3.1.6)\n",
      "Requirement already satisfied: fsspec in /Library/Frameworks/Python.framework/Versions/3.13/lib/python3.13/site-packages (from torch>=1.3->pytorch-tabnet) (2025.3.0)\n",
      "Requirement already satisfied: setuptools in /Library/Frameworks/Python.framework/Versions/3.13/lib/python3.13/site-packages (from torch>=1.3->pytorch-tabnet) (76.0.0)\n",
      "Requirement already satisfied: sympy==1.13.1 in /Library/Frameworks/Python.framework/Versions/3.13/lib/python3.13/site-packages (from torch>=1.3->pytorch-tabnet) (1.13.1)\n",
      "Requirement already satisfied: mpmath<1.4,>=1.1.0 in /Library/Frameworks/Python.framework/Versions/3.13/lib/python3.13/site-packages (from sympy==1.13.1->torch>=1.3->pytorch-tabnet) (1.3.0)\n",
      "Requirement already satisfied: MarkupSafe>=2.0 in /Library/Frameworks/Python.framework/Versions/3.13/lib/python3.13/site-packages (from jinja2->torch>=1.3->pytorch-tabnet) (3.0.2)\n",
      "Looking in links: /var/folders/6v/bysjh94n41s8djc89mvb809h0000gp/T/tmpon7xg03t\n",
      "Requirement already satisfied: pip in /Library/Frameworks/Python.framework/Versions/3.13/lib/python3.13/site-packages (25.0.1)\n",
      "Requirement already satisfied: pip in /Library/Frameworks/Python.framework/Versions/3.13/lib/python3.13/site-packages (25.0.1)\n",
      "Requirement already satisfied: pandas in /Library/Frameworks/Python.framework/Versions/3.13/lib/python3.13/site-packages (2.2.3)\n",
      "Requirement already satisfied: numpy>=1.26.0 in /Library/Frameworks/Python.framework/Versions/3.13/lib/python3.13/site-packages (from pandas) (2.2.3)\n",
      "Requirement already satisfied: python-dateutil>=2.8.2 in /Library/Frameworks/Python.framework/Versions/3.13/lib/python3.13/site-packages (from pandas) (2.9.0.post0)\n",
      "Requirement already satisfied: pytz>=2020.1 in /Library/Frameworks/Python.framework/Versions/3.13/lib/python3.13/site-packages (from pandas) (2025.1)\n",
      "Requirement already satisfied: tzdata>=2022.7 in /Library/Frameworks/Python.framework/Versions/3.13/lib/python3.13/site-packages (from pandas) (2025.1)\n",
      "Requirement already satisfied: six>=1.5 in /Library/Frameworks/Python.framework/Versions/3.13/lib/python3.13/site-packages (from python-dateutil>=2.8.2->pandas) (1.17.0)\n",
      "Requirement already satisfied: matplotlib in /Library/Frameworks/Python.framework/Versions/3.13/lib/python3.13/site-packages (3.10.1)\n",
      "Requirement already satisfied: contourpy>=1.0.1 in /Library/Frameworks/Python.framework/Versions/3.13/lib/python3.13/site-packages (from matplotlib) (1.3.1)\n",
      "Requirement already satisfied: cycler>=0.10 in /Library/Frameworks/Python.framework/Versions/3.13/lib/python3.13/site-packages (from matplotlib) (0.12.1)\n",
      "Requirement already satisfied: fonttools>=4.22.0 in /Library/Frameworks/Python.framework/Versions/3.13/lib/python3.13/site-packages (from matplotlib) (4.56.0)\n",
      "Requirement already satisfied: kiwisolver>=1.3.1 in /Library/Frameworks/Python.framework/Versions/3.13/lib/python3.13/site-packages (from matplotlib) (1.4.8)\n",
      "Requirement already satisfied: numpy>=1.23 in /Library/Frameworks/Python.framework/Versions/3.13/lib/python3.13/site-packages (from matplotlib) (2.2.3)\n",
      "Requirement already satisfied: packaging>=20.0 in /Library/Frameworks/Python.framework/Versions/3.13/lib/python3.13/site-packages (from matplotlib) (24.2)\n",
      "Requirement already satisfied: pillow>=8 in /Library/Frameworks/Python.framework/Versions/3.13/lib/python3.13/site-packages (from matplotlib) (11.1.0)\n",
      "Requirement already satisfied: pyparsing>=2.3.1 in /Library/Frameworks/Python.framework/Versions/3.13/lib/python3.13/site-packages (from matplotlib) (3.2.1)\n",
      "Requirement already satisfied: python-dateutil>=2.7 in /Library/Frameworks/Python.framework/Versions/3.13/lib/python3.13/site-packages (from matplotlib) (2.9.0.post0)\n",
      "Requirement already satisfied: six>=1.5 in /Library/Frameworks/Python.framework/Versions/3.13/lib/python3.13/site-packages (from python-dateutil>=2.7->matplotlib) (1.17.0)\n",
      "Requirement already satisfied: seaborn in /Library/Frameworks/Python.framework/Versions/3.13/lib/python3.13/site-packages (0.13.2)\n",
      "Requirement already satisfied: numpy!=1.24.0,>=1.20 in /Library/Frameworks/Python.framework/Versions/3.13/lib/python3.13/site-packages (from seaborn) (2.2.3)\n",
      "Requirement already satisfied: pandas>=1.2 in /Library/Frameworks/Python.framework/Versions/3.13/lib/python3.13/site-packages (from seaborn) (2.2.3)\n",
      "Requirement already satisfied: matplotlib!=3.6.1,>=3.4 in /Library/Frameworks/Python.framework/Versions/3.13/lib/python3.13/site-packages (from seaborn) (3.10.1)\n",
      "Requirement already satisfied: contourpy>=1.0.1 in /Library/Frameworks/Python.framework/Versions/3.13/lib/python3.13/site-packages (from matplotlib!=3.6.1,>=3.4->seaborn) (1.3.1)\n",
      "Requirement already satisfied: cycler>=0.10 in /Library/Frameworks/Python.framework/Versions/3.13/lib/python3.13/site-packages (from matplotlib!=3.6.1,>=3.4->seaborn) (0.12.1)\n",
      "Requirement already satisfied: fonttools>=4.22.0 in /Library/Frameworks/Python.framework/Versions/3.13/lib/python3.13/site-packages (from matplotlib!=3.6.1,>=3.4->seaborn) (4.56.0)\n",
      "Requirement already satisfied: kiwisolver>=1.3.1 in /Library/Frameworks/Python.framework/Versions/3.13/lib/python3.13/site-packages (from matplotlib!=3.6.1,>=3.4->seaborn) (1.4.8)\n",
      "Requirement already satisfied: packaging>=20.0 in /Library/Frameworks/Python.framework/Versions/3.13/lib/python3.13/site-packages (from matplotlib!=3.6.1,>=3.4->seaborn) (24.2)\n",
      "Requirement already satisfied: pillow>=8 in /Library/Frameworks/Python.framework/Versions/3.13/lib/python3.13/site-packages (from matplotlib!=3.6.1,>=3.4->seaborn) (11.1.0)\n",
      "Requirement already satisfied: pyparsing>=2.3.1 in /Library/Frameworks/Python.framework/Versions/3.13/lib/python3.13/site-packages (from matplotlib!=3.6.1,>=3.4->seaborn) (3.2.1)\n",
      "Requirement already satisfied: python-dateutil>=2.7 in /Library/Frameworks/Python.framework/Versions/3.13/lib/python3.13/site-packages (from matplotlib!=3.6.1,>=3.4->seaborn) (2.9.0.post0)\n",
      "Requirement already satisfied: pytz>=2020.1 in /Library/Frameworks/Python.framework/Versions/3.13/lib/python3.13/site-packages (from pandas>=1.2->seaborn) (2025.1)\n",
      "Requirement already satisfied: tzdata>=2022.7 in /Library/Frameworks/Python.framework/Versions/3.13/lib/python3.13/site-packages (from pandas>=1.2->seaborn) (2025.1)\n",
      "Requirement already satisfied: six>=1.5 in /Library/Frameworks/Python.framework/Versions/3.13/lib/python3.13/site-packages (from python-dateutil>=2.7->matplotlib!=3.6.1,>=3.4->seaborn) (1.17.0)\n",
      "Requirement already satisfied: missingno in /Library/Frameworks/Python.framework/Versions/3.13/lib/python3.13/site-packages (0.5.2)\n",
      "Requirement already satisfied: numpy in /Library/Frameworks/Python.framework/Versions/3.13/lib/python3.13/site-packages (from missingno) (2.2.3)\n",
      "Requirement already satisfied: matplotlib in /Library/Frameworks/Python.framework/Versions/3.13/lib/python3.13/site-packages (from missingno) (3.10.1)\n",
      "Requirement already satisfied: scipy in /Library/Frameworks/Python.framework/Versions/3.13/lib/python3.13/site-packages (from missingno) (1.15.2)\n",
      "Requirement already satisfied: seaborn in /Library/Frameworks/Python.framework/Versions/3.13/lib/python3.13/site-packages (from missingno) (0.13.2)\n",
      "Requirement already satisfied: contourpy>=1.0.1 in /Library/Frameworks/Python.framework/Versions/3.13/lib/python3.13/site-packages (from matplotlib->missingno) (1.3.1)\n",
      "Requirement already satisfied: cycler>=0.10 in /Library/Frameworks/Python.framework/Versions/3.13/lib/python3.13/site-packages (from matplotlib->missingno) (0.12.1)\n",
      "Requirement already satisfied: fonttools>=4.22.0 in /Library/Frameworks/Python.framework/Versions/3.13/lib/python3.13/site-packages (from matplotlib->missingno) (4.56.0)\n",
      "Requirement already satisfied: kiwisolver>=1.3.1 in /Library/Frameworks/Python.framework/Versions/3.13/lib/python3.13/site-packages (from matplotlib->missingno) (1.4.8)\n",
      "Requirement already satisfied: packaging>=20.0 in /Library/Frameworks/Python.framework/Versions/3.13/lib/python3.13/site-packages (from matplotlib->missingno) (24.2)\n",
      "Requirement already satisfied: pillow>=8 in /Library/Frameworks/Python.framework/Versions/3.13/lib/python3.13/site-packages (from matplotlib->missingno) (11.1.0)\n",
      "Requirement already satisfied: pyparsing>=2.3.1 in /Library/Frameworks/Python.framework/Versions/3.13/lib/python3.13/site-packages (from matplotlib->missingno) (3.2.1)\n",
      "Requirement already satisfied: python-dateutil>=2.7 in /Library/Frameworks/Python.framework/Versions/3.13/lib/python3.13/site-packages (from matplotlib->missingno) (2.9.0.post0)\n",
      "Requirement already satisfied: pandas>=1.2 in /Library/Frameworks/Python.framework/Versions/3.13/lib/python3.13/site-packages (from seaborn->missingno) (2.2.3)\n",
      "Requirement already satisfied: pytz>=2020.1 in /Library/Frameworks/Python.framework/Versions/3.13/lib/python3.13/site-packages (from pandas>=1.2->seaborn->missingno) (2025.1)\n",
      "Requirement already satisfied: tzdata>=2022.7 in /Library/Frameworks/Python.framework/Versions/3.13/lib/python3.13/site-packages (from pandas>=1.2->seaborn->missingno) (2025.1)\n",
      "Requirement already satisfied: six>=1.5 in /Library/Frameworks/Python.framework/Versions/3.13/lib/python3.13/site-packages (from python-dateutil>=2.7->matplotlib->missingno) (1.17.0)\n"
     ]
    }
   ],
   "source": [
    "import sys\n",
    "print(sys.version)\n",
    "!{sys.executable} -m pip install pytorch-tabnet\n",
    "!{sys.executable} -m ensurepip --default-pip \n",
    "!{sys.executable} -m pip install --upgrade pip\n",
    "!{sys.executable} -m pip install pandas\n",
    "!{sys.executable} -m pip install matplotlib\n",
    "!{sys.executable} -m pip install seaborn\n",
    "!{sys.executable} -m pip install missingno"
   ]
  },
  {
   "cell_type": "code",
   "execution_count": 45,
   "metadata": {
    "id": "LGUbnFIykjd_"
   },
   "outputs": [],
   "source": [
    "# Importing Libraries\n",
    "import numpy as np\n",
    "import pandas as pd\n",
    "import matplotlib.pyplot as plt\n",
    "import seaborn as sns\n",
    "from sklearn.model_selection import train_test_split\n",
    "from sklearn import preprocessing\n",
    "from sklearn.preprocessing import StandardScaler\n",
    "from sklearn.pipeline import Pipeline\n",
    "from sklearn.tree import DecisionTreeClassifier\n",
    "from sklearn.ensemble import RandomForestClassifier\n",
    "from sklearn.model_selection import GridSearchCV\n",
    "from pytorch_tabnet.tab_model import TabNetClassifier\n",
    "from sklearn.model_selection import cross_val_score\n",
    "from sklearn.metrics import precision_score, recall_score, confusion_matrix, classification_report, accuracy_score, f1_score\n",
    "from sklearn import metrics\n",
    "from sklearn.metrics import roc_curve, auc, roc_auc_score\n",
    "import missingno as msno\n",
    "np.random.seed(0)"
   ]
  },
  {
   "cell_type": "markdown",
   "metadata": {
    "id": "iBwitjdls-G5"
   },
   "source": [
    "# **Loading the dataset**"
   ]
  },
  {
   "cell_type": "code",
   "execution_count": 46,
   "metadata": {
    "colab": {
     "base_uri": "https://localhost:8080/",
     "height": 244
    },
    "id": "SnL7KlmCkuLQ",
    "outputId": "393ab7a0-293b-4f9d-8571-5ca3d4bc8683"
   },
   "outputs": [
    {
     "data": {
      "text/html": [
       "<div>\n",
       "<style scoped>\n",
       "    .dataframe tbody tr th:only-of-type {\n",
       "        vertical-align: middle;\n",
       "    }\n",
       "\n",
       "    .dataframe tbody tr th {\n",
       "        vertical-align: top;\n",
       "    }\n",
       "\n",
       "    .dataframe thead th {\n",
       "        text-align: right;\n",
       "    }\n",
       "</style>\n",
       "<table border=\"1\" class=\"dataframe\">\n",
       "  <thead>\n",
       "    <tr style=\"text-align: right;\">\n",
       "      <th></th>\n",
       "      <th>baseline_value</th>\n",
       "      <th>accelerations</th>\n",
       "      <th>foetal_movement</th>\n",
       "      <th>uterine_contractions</th>\n",
       "      <th>light_decelerations</th>\n",
       "      <th>severe_decelerations</th>\n",
       "      <th>prolongued_decelerations</th>\n",
       "      <th>percentage_of_time_with_abnormal_short_term_variability</th>\n",
       "      <th>mean_value_of_short_term_variability</th>\n",
       "      <th>percentage_of_time_with_abnormal_long_term_variability</th>\n",
       "      <th>...</th>\n",
       "      <th>Unnamed: 36</th>\n",
       "      <th>Unnamed: 37</th>\n",
       "      <th>Unnamed: 38</th>\n",
       "      <th>Unnamed: 39</th>\n",
       "      <th>Unnamed: 40</th>\n",
       "      <th>Unnamed: 41</th>\n",
       "      <th>Unnamed: 42</th>\n",
       "      <th>22</th>\n",
       "      <th>Unnamed: 44</th>\n",
       "      <th>23</th>\n",
       "    </tr>\n",
       "  </thead>\n",
       "  <tbody>\n",
       "    <tr>\n",
       "      <th>0</th>\n",
       "      <td>LB</td>\n",
       "      <td>AC</td>\n",
       "      <td>FM</td>\n",
       "      <td>UC</td>\n",
       "      <td>DL</td>\n",
       "      <td>DS</td>\n",
       "      <td>DP</td>\n",
       "      <td>ASTV</td>\n",
       "      <td>MSTV</td>\n",
       "      <td>ALTV</td>\n",
       "      <td>...</td>\n",
       "      <td>E</td>\n",
       "      <td>AD</td>\n",
       "      <td>DE</td>\n",
       "      <td>LD</td>\n",
       "      <td>FS</td>\n",
       "      <td>SUSP</td>\n",
       "      <td>NaN</td>\n",
       "      <td>CLASS</td>\n",
       "      <td>NaN</td>\n",
       "      <td>NSP</td>\n",
       "    </tr>\n",
       "    <tr>\n",
       "      <th>1</th>\n",
       "      <td>120</td>\n",
       "      <td>0</td>\n",
       "      <td>0</td>\n",
       "      <td>0</td>\n",
       "      <td>0</td>\n",
       "      <td>0</td>\n",
       "      <td>0</td>\n",
       "      <td>73</td>\n",
       "      <td>0.5</td>\n",
       "      <td>43</td>\n",
       "      <td>...</td>\n",
       "      <td>-1</td>\n",
       "      <td>-1</td>\n",
       "      <td>-1</td>\n",
       "      <td>-1</td>\n",
       "      <td>1</td>\n",
       "      <td>-1</td>\n",
       "      <td>NaN</td>\n",
       "      <td>9</td>\n",
       "      <td>NaN</td>\n",
       "      <td>2</td>\n",
       "    </tr>\n",
       "    <tr>\n",
       "      <th>2</th>\n",
       "      <td>132</td>\n",
       "      <td>0.006</td>\n",
       "      <td>0</td>\n",
       "      <td>0.006</td>\n",
       "      <td>0.003</td>\n",
       "      <td>0</td>\n",
       "      <td>0</td>\n",
       "      <td>17</td>\n",
       "      <td>2.1</td>\n",
       "      <td>0</td>\n",
       "      <td>...</td>\n",
       "      <td>-1</td>\n",
       "      <td>1</td>\n",
       "      <td>-1</td>\n",
       "      <td>-1</td>\n",
       "      <td>-1</td>\n",
       "      <td>-1</td>\n",
       "      <td>NaN</td>\n",
       "      <td>6</td>\n",
       "      <td>NaN</td>\n",
       "      <td>1</td>\n",
       "    </tr>\n",
       "    <tr>\n",
       "      <th>3</th>\n",
       "      <td>133</td>\n",
       "      <td>0.003</td>\n",
       "      <td>0</td>\n",
       "      <td>0.008</td>\n",
       "      <td>0.003</td>\n",
       "      <td>0</td>\n",
       "      <td>0</td>\n",
       "      <td>16</td>\n",
       "      <td>2.1</td>\n",
       "      <td>0</td>\n",
       "      <td>...</td>\n",
       "      <td>-1</td>\n",
       "      <td>1</td>\n",
       "      <td>-1</td>\n",
       "      <td>-1</td>\n",
       "      <td>-1</td>\n",
       "      <td>-1</td>\n",
       "      <td>NaN</td>\n",
       "      <td>6</td>\n",
       "      <td>NaN</td>\n",
       "      <td>1</td>\n",
       "    </tr>\n",
       "    <tr>\n",
       "      <th>4</th>\n",
       "      <td>134</td>\n",
       "      <td>0.003</td>\n",
       "      <td>0</td>\n",
       "      <td>0.008</td>\n",
       "      <td>0.003</td>\n",
       "      <td>0</td>\n",
       "      <td>0</td>\n",
       "      <td>16</td>\n",
       "      <td>2.4</td>\n",
       "      <td>0</td>\n",
       "      <td>...</td>\n",
       "      <td>-1</td>\n",
       "      <td>1</td>\n",
       "      <td>-1</td>\n",
       "      <td>-1</td>\n",
       "      <td>-1</td>\n",
       "      <td>-1</td>\n",
       "      <td>NaN</td>\n",
       "      <td>6</td>\n",
       "      <td>NaN</td>\n",
       "      <td>1</td>\n",
       "    </tr>\n",
       "  </tbody>\n",
       "</table>\n",
       "<p>5 rows × 36 columns</p>\n",
       "</div>"
      ],
      "text/plain": [
       "  baseline_value accelerations foetal_movement uterine_contractions  \\\n",
       "0             LB            AC              FM                   UC   \n",
       "1            120             0               0                    0   \n",
       "2            132         0.006               0                0.006   \n",
       "3            133         0.003               0                0.008   \n",
       "4            134         0.003               0                0.008   \n",
       "\n",
       "  light_decelerations severe_decelerations prolongued_decelerations  \\\n",
       "0                  DL                   DS                       DP   \n",
       "1                   0                    0                        0   \n",
       "2               0.003                    0                        0   \n",
       "3               0.003                    0                        0   \n",
       "4               0.003                    0                        0   \n",
       "\n",
       "  percentage_of_time_with_abnormal_short_term_variability  \\\n",
       "0                                               ASTV        \n",
       "1                                                 73        \n",
       "2                                                 17        \n",
       "3                                                 16        \n",
       "4                                                 16        \n",
       "\n",
       "  mean_value_of_short_term_variability  \\\n",
       "0                                 MSTV   \n",
       "1                                  0.5   \n",
       "2                                  2.1   \n",
       "3                                  2.1   \n",
       "4                                  2.4   \n",
       "\n",
       "  percentage_of_time_with_abnormal_long_term_variability  ... Unnamed: 36  \\\n",
       "0                                               ALTV      ...           E   \n",
       "1                                                 43      ...          -1   \n",
       "2                                                  0      ...          -1   \n",
       "3                                                  0      ...          -1   \n",
       "4                                                  0      ...          -1   \n",
       "\n",
       "  Unnamed: 37 Unnamed: 38 Unnamed: 39 Unnamed: 40 Unnamed: 41 Unnamed: 42  \\\n",
       "0          AD          DE          LD          FS        SUSP         NaN   \n",
       "1          -1          -1          -1           1          -1         NaN   \n",
       "2           1          -1          -1          -1          -1         NaN   \n",
       "3           1          -1          -1          -1          -1         NaN   \n",
       "4           1          -1          -1          -1          -1         NaN   \n",
       "\n",
       "      22 Unnamed: 44   23  \n",
       "0  CLASS         NaN  NSP  \n",
       "1      9         NaN    2  \n",
       "2      6         NaN    1  \n",
       "3      6         NaN    1  \n",
       "4      6         NaN    1  \n",
       "\n",
       "[5 rows x 36 columns]"
      ]
     },
     "execution_count": 46,
     "metadata": {},
     "output_type": "execute_result"
    }
   ],
   "source": [
    "data = pd.read_csv(\"CTG_adjusted.csv\")\n",
    "data = data.iloc[:, 10:]  # Assuming column \"K\" is the 11th column (index 10)\n",
    "data.head()"
   ]
  },
  {
   "cell_type": "code",
   "execution_count": 47,
   "metadata": {
    "colab": {
     "base_uri": "https://localhost:8080/"
    },
    "id": "G4dlzeQylV5-",
    "outputId": "e833e102-7867-4a3c-f3a3-4b5d989909a2"
   },
   "outputs": [
    {
     "name": "stdout",
     "output_type": "stream",
     "text": [
      "<class 'pandas.core.frame.DataFrame'>\n",
      "RangeIndex: 2130 entries, 0 to 2129\n",
      "Data columns (total 36 columns):\n",
      " #   Column                                                   Non-Null Count  Dtype  \n",
      "---  ------                                                   --------------  -----  \n",
      " 0   baseline_value                                           2127 non-null   object \n",
      " 1   accelerations                                            2127 non-null   object \n",
      " 2   foetal_movement                                          2128 non-null   object \n",
      " 3   uterine_contractions                                     2128 non-null   object \n",
      " 4   light_decelerations                                      2129 non-null   object \n",
      " 5   severe_decelerations                                     2129 non-null   object \n",
      " 6   prolongued_decelerations                                 2129 non-null   object \n",
      " 7   percentage_of_time_with_abnormal_short_term_variability  2128 non-null   object \n",
      " 8   mean_value_of_short_term_variability                     2128 non-null   object \n",
      " 9   percentage_of_time_with_abnormal_long_term_variability   2128 non-null   object \n",
      " 10  mean_value_of_long_term_variability                      2128 non-null   object \n",
      " 11  12                                                       2127 non-null   object \n",
      " 12  13                                                       2127 non-null   object \n",
      " 13  14                                                       2127 non-null   object \n",
      " 14  15                                                       2127 non-null   object \n",
      " 15  16                                                       2127 non-null   object \n",
      " 16  17                                                       2127 non-null   object \n",
      " 17  18                                                       2127 non-null   object \n",
      " 18  19                                                       2127 non-null   object \n",
      " 19  20                                                       2127 non-null   object \n",
      " 20  21                                                       2127 non-null   object \n",
      " 21  Unnamed: 31                                              0 non-null      float64\n",
      " 22  Unnamed: 32                                              2128 non-null   object \n",
      " 23  Unnamed: 33                                              2128 non-null   object \n",
      " 24  Unnamed: 34                                              2128 non-null   object \n",
      " 25  Unnamed: 35                                              2128 non-null   object \n",
      " 26  Unnamed: 36                                              2128 non-null   object \n",
      " 27  Unnamed: 37                                              2128 non-null   object \n",
      " 28  Unnamed: 38                                              2128 non-null   object \n",
      " 29  Unnamed: 39                                              2128 non-null   object \n",
      " 30  Unnamed: 40                                              2128 non-null   object \n",
      " 31  Unnamed: 41                                              2128 non-null   object \n",
      " 32  Unnamed: 42                                              0 non-null      float64\n",
      " 33  22                                                       2127 non-null   object \n",
      " 34  Unnamed: 44                                              0 non-null      float64\n",
      " 35  23                                                       2127 non-null   object \n",
      "dtypes: float64(3), object(33)\n",
      "memory usage: 599.2+ KB\n"
     ]
    }
   ],
   "source": [
    "data.info()"
   ]
  },
  {
   "cell_type": "code",
   "execution_count": 48,
   "metadata": {
    "colab": {
     "base_uri": "https://localhost:8080/"
    },
    "id": "hNGiLsonx5_w",
    "outputId": "040579a5-b387-40d8-801d-f23bfa0376a3"
   },
   "outputs": [
    {
     "data": {
      "text/plain": [
       "(2130, 36)"
      ]
     },
     "execution_count": 48,
     "metadata": {},
     "output_type": "execute_result"
    }
   ],
   "source": [
    "data.shape"
   ]
  },
  {
   "cell_type": "code",
   "execution_count": 49,
   "metadata": {
    "colab": {
     "base_uri": "https://localhost:8080/",
     "height": 363
    },
    "id": "P7B0ESM4mAC5",
    "outputId": "960d907b-1dd8-4c51-c2d9-675b001ee5b5"
   },
   "outputs": [
    {
     "data": {
      "text/html": [
       "<div>\n",
       "<style scoped>\n",
       "    .dataframe tbody tr th:only-of-type {\n",
       "        vertical-align: middle;\n",
       "    }\n",
       "\n",
       "    .dataframe tbody tr th {\n",
       "        vertical-align: top;\n",
       "    }\n",
       "\n",
       "    .dataframe thead th {\n",
       "        text-align: right;\n",
       "    }\n",
       "</style>\n",
       "<table border=\"1\" class=\"dataframe\">\n",
       "  <thead>\n",
       "    <tr style=\"text-align: right;\">\n",
       "      <th></th>\n",
       "      <th>count</th>\n",
       "      <th>mean</th>\n",
       "      <th>std</th>\n",
       "      <th>min</th>\n",
       "      <th>25%</th>\n",
       "      <th>50%</th>\n",
       "      <th>75%</th>\n",
       "      <th>max</th>\n",
       "    </tr>\n",
       "  </thead>\n",
       "  <tbody>\n",
       "    <tr>\n",
       "      <th>Unnamed: 31</th>\n",
       "      <td>0.0</td>\n",
       "      <td>NaN</td>\n",
       "      <td>NaN</td>\n",
       "      <td>NaN</td>\n",
       "      <td>NaN</td>\n",
       "      <td>NaN</td>\n",
       "      <td>NaN</td>\n",
       "      <td>NaN</td>\n",
       "    </tr>\n",
       "    <tr>\n",
       "      <th>Unnamed: 42</th>\n",
       "      <td>0.0</td>\n",
       "      <td>NaN</td>\n",
       "      <td>NaN</td>\n",
       "      <td>NaN</td>\n",
       "      <td>NaN</td>\n",
       "      <td>NaN</td>\n",
       "      <td>NaN</td>\n",
       "      <td>NaN</td>\n",
       "    </tr>\n",
       "    <tr>\n",
       "      <th>Unnamed: 44</th>\n",
       "      <td>0.0</td>\n",
       "      <td>NaN</td>\n",
       "      <td>NaN</td>\n",
       "      <td>NaN</td>\n",
       "      <td>NaN</td>\n",
       "      <td>NaN</td>\n",
       "      <td>NaN</td>\n",
       "      <td>NaN</td>\n",
       "    </tr>\n",
       "  </tbody>\n",
       "</table>\n",
       "</div>"
      ],
      "text/plain": [
       "             count  mean  std  min  25%  50%  75%  max\n",
       "Unnamed: 31    0.0   NaN  NaN  NaN  NaN  NaN  NaN  NaN\n",
       "Unnamed: 42    0.0   NaN  NaN  NaN  NaN  NaN  NaN  NaN\n",
       "Unnamed: 44    0.0   NaN  NaN  NaN  NaN  NaN  NaN  NaN"
      ]
     },
     "execution_count": 49,
     "metadata": {},
     "output_type": "execute_result"
    }
   ],
   "source": [
    "data.describe().T"
   ]
  },
  {
   "cell_type": "code",
   "execution_count": 50,
   "metadata": {
    "id": "JvB6q0GrB_Yz"
   },
   "outputs": [],
   "source": [
    "data.drop(data.columns[[9, 10]], axis=1, inplace=True)"
   ]
  },
  {
   "cell_type": "code",
   "execution_count": 51,
   "metadata": {
    "colab": {
     "base_uri": "https://localhost:8080/"
    },
    "id": "w8FjA1xlUCag",
    "outputId": "fdd67adc-79a3-4d9e-da11-297a8dc3ae74"
   },
   "outputs": [
    {
     "data": {
      "text/plain": [
       "baseline_value                                              49\n",
       "accelerations                                               21\n",
       "foetal_movement                                            103\n",
       "uterine_contractions                                        17\n",
       "light_decelerations                                         17\n",
       "severe_decelerations                                         3\n",
       "prolongued_decelerations                                     7\n",
       "percentage_of_time_with_abnormal_short_term_variability     76\n",
       "mean_value_of_short_term_variability                        58\n",
       "12                                                         155\n",
       "13                                                         110\n",
       "14                                                          87\n",
       "15                                                          19\n",
       "16                                                          10\n",
       "17                                                          89\n",
       "18                                                         104\n",
       "19                                                          96\n",
       "20                                                         134\n",
       "21                                                           4\n",
       "Unnamed: 31                                                  0\n",
       "Unnamed: 32                                                  4\n",
       "Unnamed: 33                                                  4\n",
       "Unnamed: 34                                                  4\n",
       "Unnamed: 35                                                  4\n",
       "Unnamed: 36                                                  4\n",
       "Unnamed: 37                                                  4\n",
       "Unnamed: 38                                                  4\n",
       "Unnamed: 39                                                  4\n",
       "Unnamed: 40                                                  4\n",
       "Unnamed: 41                                                  4\n",
       "Unnamed: 42                                                  0\n",
       "22                                                          11\n",
       "Unnamed: 44                                                  0\n",
       "23                                                           4\n",
       "dtype: int64"
      ]
     },
     "execution_count": 51,
     "metadata": {},
     "output_type": "execute_result"
    }
   ],
   "source": [
    "data.nunique()"
   ]
  },
  {
   "cell_type": "markdown",
   "metadata": {
    "id": "zwEs8s8YBw_h"
   },
   "source": [
    "# **handle** **null** **values**"
   ]
  },
  {
   "cell_type": "code",
   "execution_count": 52,
   "metadata": {
    "colab": {
     "base_uri": "https://localhost:8080/",
     "height": 510
    },
    "id": "fFYFQnlCNQb2",
    "outputId": "f7db9811-823b-4b98-9b05-aabd8f84d32b"
   },
   "outputs": [
    {
     "data": {
      "image/png": "[encoded data removed]",
      "text/plain": [
       "<Figure size 2500x1000 with 3 Axes>"
      ]
     },
     "metadata": {},
     "output_type": "display_data"
    }
   ],
   "source": [
    "import missingno as msno\n",
    "import matplotlib.pyplot as plt\n",
    "\n",
    "null_plot = msno.bar(data, color=\"#8f7198\")\n",
    "plt.savefig(\"missing_data_graph.png\")\n",
    "#Bar Chart :This bar chart gives us an idea about how many missing values are there in each column."
   ]
  },
  {
   "cell_type": "code",
   "execution_count": 53,
   "metadata": {
    "colab": {
     "base_uri": "https://localhost:8080/"
    },
    "id": "_yUAOaDkkjMg",
    "outputId": "cac81f23-83bf-451e-c213-989a586bc692"
   },
   "outputs": [
    {
     "name": "stdout",
     "output_type": "stream",
     "text": [
      "baseline_value                                               0.140845\n",
      "accelerations                                                0.140845\n",
      "foetal_movement                                              0.093897\n",
      "uterine_contractions                                         0.093897\n",
      "light_decelerations                                          0.046948\n",
      "severe_decelerations                                         0.046948\n",
      "prolongued_decelerations                                     0.046948\n",
      "percentage_of_time_with_abnormal_short_term_variability      0.093897\n",
      "mean_value_of_short_term_variability                         0.093897\n",
      "12                                                           0.140845\n",
      "13                                                           0.140845\n",
      "14                                                           0.140845\n",
      "15                                                           0.140845\n",
      "16                                                           0.140845\n",
      "17                                                           0.140845\n",
      "18                                                           0.140845\n",
      "19                                                           0.140845\n",
      "20                                                           0.140845\n",
      "21                                                           0.140845\n",
      "Unnamed: 31                                                100.000000\n",
      "Unnamed: 32                                                  0.093897\n",
      "Unnamed: 33                                                  0.093897\n",
      "Unnamed: 34                                                  0.093897\n",
      "Unnamed: 35                                                  0.093897\n",
      "Unnamed: 36                                                  0.093897\n",
      "Unnamed: 37                                                  0.093897\n",
      "Unnamed: 38                                                  0.093897\n",
      "Unnamed: 39                                                  0.093897\n",
      "Unnamed: 40                                                  0.093897\n",
      "Unnamed: 41                                                  0.093897\n",
      "Unnamed: 42                                                100.000000\n",
      "22                                                           0.140845\n",
      "Unnamed: 44                                                100.000000\n",
      "23                                                           0.140845\n",
      "dtype: float64\n"
     ]
    }
   ],
   "source": [
    "# Calculate percentage of missing values in each column\n",
    "null_percentage = data.isnull().sum() / len(data) * 100\n",
    "print(null_percentage)"
   ]
  },
  {
   "cell_type": "code",
   "execution_count": 54,
   "metadata": {
    "colab": {
     "base_uri": "https://localhost:8080/"
    },
    "id": "vZ10EnENZIpY",
    "outputId": "969319cf-b0e3-40a4-a283-d19ade9c3121"
   },
   "outputs": [
    {
     "name": "stdout",
     "output_type": "stream",
     "text": [
      "sum of duplicated =  17\n",
      "is the data not duplicated\n",
      "sum of duplicated =  0\n"
     ]
    },
    {
     "data": {
      "text/plain": [
       "np.int64(0)"
      ]
     },
     "execution_count": 54,
     "metadata": {},
     "output_type": "execute_result"
    }
   ],
   "source": [
    "duplicateds = data.copy()\n",
    "duplicateds.drop_duplicates(inplace= True)\n",
    "print(\"sum of duplicated = \", data.duplicated().sum())\n",
    "print(\"is the data not duplicated\")\n",
    "data = duplicateds.copy()\n",
    "print(\"sum of duplicated = \" , data.duplicated().sum())\n",
    "data.duplicated().sum()"
   ]
  },
  {
   "cell_type": "code",
   "execution_count": 55,
   "metadata": {
    "colab": {
     "base_uri": "https://localhost:8080/",
     "height": 452
    },
    "id": "6rLnM0e8k6rQ",
    "outputId": "f4b0d2d5-3390-48db-c8f5-1c4c2a0cef56"
   },
   "outputs": [
    {
     "data": {
      "text/plain": [
       "<Axes: >"
      ]
     },
     "execution_count": 55,
     "metadata": {},
     "output_type": "execute_result"
    },
    {
     "data": {
      "image/png": "[encoded data removed]",
      "text/plain": [
       "<Figure size 640x480 with 1 Axes>"
      ]
     },
     "metadata": {},
     "output_type": "display_data"
    }
   ],
   "source": [
    "data.isnull().sum().plot()"
   ]
  },
  {
   "cell_type": "code",
   "execution_count": 56,
   "metadata": {
    "colab": {
     "base_uri": "https://localhost:8080/"
    },
    "id": "9BJlxpCUGTSG",
    "outputId": "951c9bd3-e2a6-4079-f906-e6346cc5986b"
   },
   "outputs": [
    {
     "ename": "KeyError",
     "evalue": "'fetal_Health'",
     "output_type": "error",
     "traceback": [
      "\u001b[31m---------------------------------------------------------------------------\u001b[39m",
      "\u001b[31mKeyError\u001b[39m                                  Traceback (most recent call last)",
      "\u001b[36mFile \u001b[39m\u001b[32m/Library/Frameworks/Python.framework/Versions/3.13/lib/python3.13/site-packages/pandas/core/indexes/base.py:3805\u001b[39m, in \u001b[36mIndex.get_loc\u001b[39m\u001b[34m(self, key)\u001b[39m\n\u001b[32m   3804\u001b[39m \u001b[38;5;28;01mtry\u001b[39;00m:\n\u001b[32m-> \u001b[39m\u001b[32m3805\u001b[39m     \u001b[38;5;28;01mreturn\u001b[39;00m \u001b[38;5;28;43mself\u001b[39;49m\u001b[43m.\u001b[49m\u001b[43m_engine\u001b[49m\u001b[43m.\u001b[49m\u001b[43mget_loc\u001b[49m\u001b[43m(\u001b[49m\u001b[43mcasted_key\u001b[49m\u001b[43m)\u001b[49m\n\u001b[32m   3806\u001b[39m \u001b[38;5;28;01mexcept\u001b[39;00m \u001b[38;5;167;01mKeyError\u001b[39;00m \u001b[38;5;28;01mas\u001b[39;00m err:\n",
      "\u001b[36mFile \u001b[39m\u001b[32mindex.pyx:167\u001b[39m, in \u001b[36mpandas._libs.index.IndexEngine.get_loc\u001b[39m\u001b[34m()\u001b[39m\n",
      "\u001b[36mFile \u001b[39m\u001b[32mindex.pyx:196\u001b[39m, in \u001b[36mpandas._libs.index.IndexEngine.get_loc\u001b[39m\u001b[34m()\u001b[39m\n",
      "\u001b[36mFile \u001b[39m\u001b[32mpandas/_libs/hashtable_class_helper.pxi:7081\u001b[39m, in \u001b[36mpandas._libs.hashtable.PyObjectHashTable.get_item\u001b[39m\u001b[34m()\u001b[39m\n",
      "\u001b[36mFile \u001b[39m\u001b[32mpandas/_libs/hashtable_class_helper.pxi:7089\u001b[39m, in \u001b[36mpandas._libs.hashtable.PyObjectHashTable.get_item\u001b[39m\u001b[34m()\u001b[39m\n",
      "\u001b[31mKeyError\u001b[39m: 'fetal_Health'",
      "\nThe above exception was the direct cause of the following exception:\n",
      "\u001b[31mKeyError\u001b[39m                                  Traceback (most recent call last)",
      "\u001b[36mCell\u001b[39m\u001b[36m \u001b[39m\u001b[32mIn[56]\u001b[39m\u001b[32m, line 1\u001b[39m\n\u001b[32m----> \u001b[39m\u001b[32m1\u001b[39m \u001b[43mdata\u001b[49m\u001b[43m[\u001b[49m\u001b[33;43m'\u001b[39;49m\u001b[33;43mfetal_Health\u001b[39;49m\u001b[33;43m'\u001b[39;49m\u001b[43m]\u001b[49m.unique()\n",
      "\u001b[36mFile \u001b[39m\u001b[32m/Library/Frameworks/Python.framework/Versions/3.13/lib/python3.13/site-packages/pandas/core/frame.py:4102\u001b[39m, in \u001b[36mDataFrame.__getitem__\u001b[39m\u001b[34m(self, key)\u001b[39m\n\u001b[32m   4100\u001b[39m \u001b[38;5;28;01mif\u001b[39;00m \u001b[38;5;28mself\u001b[39m.columns.nlevels > \u001b[32m1\u001b[39m:\n\u001b[32m   4101\u001b[39m     \u001b[38;5;28;01mreturn\u001b[39;00m \u001b[38;5;28mself\u001b[39m._getitem_multilevel(key)\n\u001b[32m-> \u001b[39m\u001b[32m4102\u001b[39m indexer = \u001b[38;5;28;43mself\u001b[39;49m\u001b[43m.\u001b[49m\u001b[43mcolumns\u001b[49m\u001b[43m.\u001b[49m\u001b[43mget_loc\u001b[49m\u001b[43m(\u001b[49m\u001b[43mkey\u001b[49m\u001b[43m)\u001b[49m\n\u001b[32m   4103\u001b[39m \u001b[38;5;28;01mif\u001b[39;00m is_integer(indexer):\n\u001b[32m   4104\u001b[39m     indexer = [indexer]\n",
      "\u001b[36mFile \u001b[39m\u001b[32m/Library/Frameworks/Python.framework/Versions/3.13/lib/python3.13/site-packages/pandas/core/indexes/base.py:3812\u001b[39m, in \u001b[36mIndex.get_loc\u001b[39m\u001b[34m(self, key)\u001b[39m\n\u001b[32m   3807\u001b[39m     \u001b[38;5;28;01mif\u001b[39;00m \u001b[38;5;28misinstance\u001b[39m(casted_key, \u001b[38;5;28mslice\u001b[39m) \u001b[38;5;129;01mor\u001b[39;00m (\n\u001b[32m   3808\u001b[39m         \u001b[38;5;28misinstance\u001b[39m(casted_key, abc.Iterable)\n\u001b[32m   3809\u001b[39m         \u001b[38;5;129;01mand\u001b[39;00m \u001b[38;5;28many\u001b[39m(\u001b[38;5;28misinstance\u001b[39m(x, \u001b[38;5;28mslice\u001b[39m) \u001b[38;5;28;01mfor\u001b[39;00m x \u001b[38;5;129;01min\u001b[39;00m casted_key)\n\u001b[32m   3810\u001b[39m     ):\n\u001b[32m   3811\u001b[39m         \u001b[38;5;28;01mraise\u001b[39;00m InvalidIndexError(key)\n\u001b[32m-> \u001b[39m\u001b[32m3812\u001b[39m     \u001b[38;5;28;01mraise\u001b[39;00m \u001b[38;5;167;01mKeyError\u001b[39;00m(key) \u001b[38;5;28;01mfrom\u001b[39;00m\u001b[38;5;250m \u001b[39m\u001b[34;01merr\u001b[39;00m\n\u001b[32m   3813\u001b[39m \u001b[38;5;28;01mexcept\u001b[39;00m \u001b[38;5;167;01mTypeError\u001b[39;00m:\n\u001b[32m   3814\u001b[39m     \u001b[38;5;66;03m# If we have a listlike key, _check_indexing_error will raise\u001b[39;00m\n\u001b[32m   3815\u001b[39m     \u001b[38;5;66;03m#  InvalidIndexError. Otherwise we fall through and re-raise\u001b[39;00m\n\u001b[32m   3816\u001b[39m     \u001b[38;5;66;03m#  the TypeError.\u001b[39;00m\n\u001b[32m   3817\u001b[39m     \u001b[38;5;28mself\u001b[39m._check_indexing_error(key)\n",
      "\u001b[31mKeyError\u001b[39m: 'fetal_Health'"
     ]
    }
   ],
   "source": [
    "data['fetal_Health'].unique()"
   ]
  },
  {
   "cell_type": "code",
   "execution_count": null,
   "metadata": {
    "colab": {
     "base_uri": "https://localhost:8080/"
    },
    "id": "vaRLBACplBPI",
    "outputId": "b414d512-8668-4b4c-fd18-89ca2e732778"
   },
   "outputs": [],
   "source": [
    "data.shape"
   ]
  },
  {
   "cell_type": "code",
   "execution_count": null,
   "metadata": {
    "colab": {
     "base_uri": "https://localhost:8080/",
     "height": 444
    },
    "id": "6gOi404HGcJB",
    "outputId": "896399c2-54ca-45e0-b43b-49632bcc219f"
   },
   "outputs": [],
   "source": [
    "data"
   ]
  },
  {
   "cell_type": "code",
   "execution_count": null,
   "metadata": {
    "id": "Bsi9U57b13FT"
   },
   "outputs": [],
   "source": [
    "data['fetal_Health'] = data['fetal_Health'].str.strip().str.capitalize()"
   ]
  },
  {
   "cell_type": "code",
   "execution_count": null,
   "metadata": {
    "colab": {
     "base_uri": "https://localhost:8080/"
    },
    "id": "1Jy8ZbYY1682",
    "outputId": "43334500-1dc1-4a28-fbed-1b4d90cd3446"
   },
   "outputs": [],
   "source": [
    "category_mapping = {\n",
    "    'Suspicion': 2,\n",
    "    'Normal': 1,\n",
    "    'Pathologic': 3\n",
    "}\n",
    "\n",
    "# Apply the mapping to the DataFrame\n",
    "data['fetal_Health'] = data['fetal_Health'].map(category_mapping)\n",
    "\n",
    "# Verify the transformation\n",
    "print(data['fetal_Health'].unique())"
   ]
  },
  {
   "cell_type": "markdown",
   "metadata": {
    "id": "QvXTx_mcBAQn"
   },
   "source": [
    "# **correlation matrix**"
   ]
  },
  {
   "cell_type": "code",
   "execution_count": null,
   "metadata": {
    "cellView": "code",
    "colab": {
     "base_uri": "https://localhost:8080/",
     "height": 1000
    },
    "id": "0_pBNS4bmLD4",
    "outputId": "ced7a3e3-dcc7-4609-f897-321afebe8a2f"
   },
   "outputs": [],
   "source": [
    "corrmat= data.corr()\n",
    "plt.figure(figsize=(15,15))\n",
    "cmap = sns.diverging_palette(250, 10, s=80, l=55, n=9, as_cmap=True)\n",
    "sns.heatmap(corrmat,annot=True, cmap=cmap, center=0)\n",
    "plt.savefig('correlation_matrix_heatmap.png')"
   ]
  },
  {
   "cell_type": "code",
   "execution_count": null,
   "metadata": {
    "colab": {
     "base_uri": "https://localhost:8080/",
     "height": 475
    },
    "id": "Rap-1TM9QMCo",
    "outputId": "8831026f-334d-41cd-fc6c-d28451d51c3a"
   },
   "outputs": [],
   "source": [
    "sns.regplot(x=data['accelerations'], y=data['variability'], line_kws={\"color\":'black'})"
   ]
  },
  {
   "cell_type": "code",
   "execution_count": null,
   "metadata": {
    "colab": {
     "base_uri": "https://localhost:8080/",
     "height": 475
    },
    "id": "f9bOjemGQPNw",
    "outputId": "3ba27298-967b-41f4-90ca-201d2e34cac1"
   },
   "outputs": [],
   "source": [
    "sns.regplot(x=data['accelerations'], y=data['baseline_value'], line_kws={\"color\":'black'})"
   ]
  },
  {
   "cell_type": "code",
   "execution_count": null,
   "metadata": {
    "colab": {
     "base_uri": "https://localhost:8080/",
     "height": 475
    },
    "id": "FaaFP1ko2Lkj",
    "outputId": "5f6abfd4-8926-491f-feec-7f8d592f94fd"
   },
   "outputs": [],
   "source": [
    "sns.regplot(x=data['prolongued_decelerations'], y=data['baseline_value'], line_kws={\"color\":'black'})"
   ]
  },
  {
   "cell_type": "code",
   "execution_count": null,
   "metadata": {
    "colab": {
     "base_uri": "https://localhost:8080/",
     "height": 345
    },
    "id": "gmotIRLBeUFF",
    "outputId": "dc7680d3-9238-4a8a-c333-fa09c21f792b"
   },
   "outputs": [],
   "source": [
    "# Histograms for all numeric variables\n",
    "sns.set(style=\"whitegrid\")\n",
    "plt.figure(figsize=(15, 10))\n",
    "for i, column in enumerate(data.columns):\n",
    "    plt.subplot(4, 6, i+1)\n",
    "    sns.histplot(data[column], kde=True)\n",
    "    plt.title(column)\n",
    "plt.tight_layout()\n",
    "plt.show()"
   ]
  },
  {
   "cell_type": "code",
   "execution_count": null,
   "metadata": {
    "colab": {
     "base_uri": "https://localhost:8080/",
     "height": 585
    },
    "id": "d91g8JFAebLj",
    "outputId": "4a3365c8-a791-4e2a-a99b-04c32e888588"
   },
   "outputs": [],
   "source": [
    "# Boxplots for all numeric variables\n",
    "plt.figure(figsize=(15, 10))\n",
    "sns.boxplot(data=data, orient=\"h\", palette=\"Set2\")\n",
    "plt.title(\"Boxplot of Numeric Variables\")\n",
    "plt.show()\n"
   ]
  },
  {
   "cell_type": "code",
   "execution_count": null,
   "metadata": {
    "colab": {
     "base_uri": "https://localhost:8080/",
     "height": 573
    },
    "id": "NH8f0QoQe-HZ",
    "outputId": "694f1554-edf7-4e3e-87dd-cd62a6669f95"
   },
   "outputs": [],
   "source": [
    "# Violin Plot for categorical variable\n",
    "plt.figure(figsize=(10, 6))\n",
    "sns.violinplot(x='fetal_Health', y='baseline_value', data=data)\n",
    "plt.title(\"Violin Plot: Fetal Health vs Baseline Value\")\n",
    "plt.xlabel(\"Fetal Health\")\n",
    "plt.ylabel(\"Baseline Value\")\n",
    "plt.show()\n"
   ]
  },
  {
   "cell_type": "code",
   "execution_count": null,
   "metadata": {
    "colab": {
     "base_uri": "https://localhost:8080/",
     "height": 322
    },
    "id": "ze4rIMTNfEXR",
    "outputId": "7cc783af-3eae-4d2d-cbab-6fed8ac991b9"
   },
   "outputs": [],
   "source": [
    "# Facet Grids\n",
    "g = sns.FacetGrid(data, col='fetal_Health', height=4)\n",
    "g.map(sns.histplot, 'baseline_value', kde=True)\n",
    "plt.show()\n"
   ]
  },
  {
   "cell_type": "code",
   "execution_count": null,
   "metadata": {
    "colab": {
     "base_uri": "https://localhost:8080/",
     "height": 573
    },
    "id": "SLDtKWpQfIfP",
    "outputId": "98467c8e-73e7-4bdd-ff74-9bd5b3d31898"
   },
   "outputs": [],
   "source": [
    "# Distribution Plot for a single numeric variable\n",
    "plt.figure(figsize=(8, 6))\n",
    "sns.distplot(data['baseline_value'], kde=True)\n",
    "plt.title(\"Distribution Plot: Baseline Value\")\n",
    "plt.xlabel(\"Baseline Value\")\n",
    "plt.ylabel(\"Density\")\n",
    "plt.show()\n"
   ]
  },
  {
   "cell_type": "code",
   "execution_count": null,
   "metadata": {
    "colab": {
     "base_uri": "https://localhost:8080/",
     "height": 573
    },
    "id": "6KB2305Zhgxf",
    "outputId": "60637072-0ff2-42c9-c5ae-344136b19049"
   },
   "outputs": [],
   "source": [
    "# Boxplots of 'baseline value' for each category of 'fetal_health'\n",
    "plt.figure(figsize=(10, 6))\n",
    "sns.boxplot(x='fetal_Health', y='baseline_value', data=data)\n",
    "plt.title(\"Boxplot of Baseline Value by Fetal Health\")\n",
    "plt.xlabel(\"Fetal Health\")\n",
    "plt.ylabel(\"Baseline Value\")\n",
    "plt.show()\n"
   ]
  },
  {
   "cell_type": "markdown",
   "metadata": {
    "id": "SJ23b3nYC-5Q"
   },
   "source": [
    "# **Data analysis**"
   ]
  },
  {
   "cell_type": "markdown",
   "metadata": {
    "id": "6iTibiYOpCCf"
   },
   "source": [
    "# **Detecting outliers**"
   ]
  },
  {
   "cell_type": "code",
   "execution_count": null,
   "metadata": {
    "colab": {
     "base_uri": "https://localhost:8080/",
     "height": 599
    },
    "id": "iCLcX9FFpG48",
    "outputId": "2cf00721-008b-4acf-cda5-cda9594eb36d"
   },
   "outputs": [],
   "source": [
    "fig, axes = plt.subplots(6, 4, figsize=(10, 12))\n",
    "axes = axes.flatten()\n",
    "for i, column in enumerate(data.columns):\n",
    "    sns.boxplot(data=data, x=column, ax=axes[i])\n",
    "    axes[i].set_title(f\"{column}\", fontsize=10)\n",
    "    axes[i].set_xlabel(\"\")\n",
    "for i in range(len(data.columns), len(axes)):\n",
    "    fig.delaxes(axes[i])\n",
    "\n",
    "plt.tight_layout()\n",
    "plt.show()"
   ]
  },
  {
   "cell_type": "markdown",
   "metadata": {
    "id": "nR-hAOI5XVO2"
   },
   "source": [
    "# **Spliting X and y sets**"
   ]
  },
  {
   "cell_type": "markdown",
   "metadata": {
    "id": "E5Gq6OQ1S7EI"
   },
   "source": [
    "# **Spliting test and training sets**"
   ]
  },
  {
   "cell_type": "code",
   "execution_count": null,
   "metadata": {
    "id": "rfnw1zt8XY_e"
   },
   "outputs": [],
   "source": [
    "#assigning values to features as X and target as y\n",
    "X=data.drop([\"fetal_Health\"],axis=1)\n",
    "y=data[\"fetal_Health\"]"
   ]
  },
  {
   "cell_type": "code",
   "execution_count": null,
   "metadata": {
    "colab": {
     "base_uri": "https://localhost:8080/",
     "height": 444
    },
    "id": "yqNPiZRVKnzK",
    "outputId": "a140508f-3776-48f2-e88e-c7ab0b9d4e9f"
   },
   "outputs": [],
   "source": [
    "X"
   ]
  },
  {
   "cell_type": "code",
   "execution_count": null,
   "metadata": {
    "colab": {
     "base_uri": "https://localhost:8080/"
    },
    "id": "bfm7eUYxKoYn",
    "outputId": "cb425fd1-e64c-4146-ab8a-2a3a834d88a4"
   },
   "outputs": [],
   "source": [
    "y.shape"
   ]
  },
  {
   "cell_type": "code",
   "execution_count": null,
   "metadata": {
    "id": "5RwZfEKGntrR"
   },
   "outputs": [],
   "source": [
    "X_train , X_test , y_train , y_test = train_test_split(X,y ,test_size=0.3 ,\n",
    "                                                   random_state=42)"
   ]
  },
  {
   "cell_type": "code",
   "execution_count": null,
   "metadata": {
    "colab": {
     "base_uri": "https://localhost:8080/",
     "height": 545
    },
    "id": "Wcy1boj0mHDu",
    "outputId": "f65ab6c1-ca1c-4f4c-b62c-b1a439906b0d"
   },
   "outputs": [],
   "source": [
    "#first of all let us evaluate the target and find out if our data is imbalanced or not\n",
    "\n",
    "colours=[\"#f7b2b0\",\"#8f7198\", \"#003f5c\"]\n",
    "sns.countplot(data= data, x=\"fetal_Health\",palette=colours)\n",
    "import pandas as pd\n",
    "\n",
    "class_counts = data['fetal_Health'].value_counts()\n",
    "print(class_counts)"
   ]
  },
  {
   "cell_type": "markdown",
   "metadata": {
    "id": "xOw9YxD2Z2DB"
   },
   "source": [
    "# **Oversampeling**"
   ]
  },
  {
   "cell_type": "code",
   "execution_count": null,
   "metadata": {
    "id": "m_OEBkWah8cW"
   },
   "outputs": [],
   "source": [
    "import imblearn\n",
    "from imblearn.over_sampling import SMOTE\n",
    "\n",
    "# Instantiate SMOTE\n",
    "smote = SMOTE(sampling_strategy='not majority')\n",
    "\n",
    "# Resample the training data\n",
    "X_over, y_over = smote.fit_resample(X_train, y_train)\n"
   ]
  },
  {
   "cell_type": "code",
   "execution_count": null,
   "metadata": {
    "colab": {
     "base_uri": "https://localhost:8080/"
    },
    "id": "NhWye-AqS-ql",
    "outputId": "cbd19591-624b-4001-f7fa-2f9838350292"
   },
   "outputs": [],
   "source": [
    "y"
   ]
  },
  {
   "cell_type": "code",
   "execution_count": null,
   "metadata": {
    "colab": {
     "base_uri": "https://localhost:8080/"
    },
    "id": "UMAjqFSbKwjV",
    "outputId": "72d2e5d8-3a52-49cf-f0d3-63e4d4527b57"
   },
   "outputs": [],
   "source": [
    "X_over.shape"
   ]
  },
  {
   "cell_type": "code",
   "execution_count": null,
   "metadata": {
    "colab": {
     "base_uri": "https://localhost:8080/"
    },
    "id": "0viJueX9oHHD",
    "outputId": "27dd1259-ad17-43ad-c52c-9eb8171b01cf"
   },
   "outputs": [],
   "source": [
    "y_over.shape"
   ]
  },
  {
   "cell_type": "markdown",
   "metadata": {
    "id": "g2mdUkKNDV6P"
   },
   "source": [
    "# **StandardScaler**"
   ]
  },
  {
   "cell_type": "code",
   "execution_count": null,
   "metadata": {
    "colab": {
     "base_uri": "https://localhost:8080/"
    },
    "id": "PEMBaDpjo1gH",
    "outputId": "48d013ce-d21f-43c7-bac4-1ac28fd44ccb"
   },
   "outputs": [],
   "source": [
    "# Scale X\n",
    "scaler=StandardScaler()\n",
    "X_scaled=scaler.fit_transform(X_over)\n",
    "X_scaled=pd.DataFrame(X_scaled,columns=X_over.columns)\n",
    "X_scaled.shape"
   ]
  },
  {
   "cell_type": "code",
   "execution_count": null,
   "metadata": {
    "colab": {
     "base_uri": "https://localhost:8080/",
     "height": 622
    },
    "id": "r3F1c4_SpQlt",
    "outputId": "c14db7d4-64c3-4adf-bc99-f4bc5e1e1832"
   },
   "outputs": [],
   "source": [
    "#looking at the scaled features\n",
    "plt.figure(figsize=(20,10))\n",
    "sns.boxenplot(data = X_scaled)\n",
    "plt.xticks(rotation=90)\n",
    "plt.show()\n",
    "plt.savefig('Stander1.png')"
   ]
  },
  {
   "cell_type": "code",
   "execution_count": null,
   "metadata": {
    "id": "k2-szjg7qB1x"
   },
   "outputs": [],
   "source": [
    "scaled_X_test = scaler.transform(X_test)\n",
    "scaled_X_test = pd.DataFrame(scaled_X_test, columns=X_test.columns)"
   ]
  },
  {
   "cell_type": "markdown",
   "metadata": {
    "id": "NGdpcRMvmqhL"
   },
   "source": [
    "# **Features** **Selection**"
   ]
  },
  {
   "cell_type": "markdown",
   "metadata": {
    "id": "o5PZow-wUaeL"
   },
   "source": [
    "# **SelectKbest**"
   ]
  },
  {
   "cell_type": "code",
   "execution_count": null,
   "metadata": {
    "id": "qboBm03sq0jm"
   },
   "outputs": [],
   "source": [
    "from sklearn.feature_selection import SelectKBest, f_classif\n",
    "\n",
    "\n",
    "bestfeatures = SelectKBest(score_func=f_classif, k='all')\n",
    "\n",
    "fit = bestfeatures.fit(X_scaled, y_over)\n",
    "dfscores = pd.DataFrame(fit.scores_)\n",
    "dfcolumns = pd.DataFrame(X_scaled.columns)"
   ]
  },
  {
   "cell_type": "code",
   "execution_count": null,
   "metadata": {
    "colab": {
     "base_uri": "https://localhost:8080/"
    },
    "id": "ueiLaAhErVcD",
    "outputId": "a15bef86-83aa-41b3-ec3f-b8d116e5f13e"
   },
   "outputs": [],
   "source": [
    "# Concatenate two dataframes for better understanding\n",
    "featureScores = pd.concat([dfcolumns, dfscores], axis=1)\n",
    "featureScores.columns = ['Feature', 'Score']\n",
    "\n",
    "# Sort features based on importance scores\n",
    "featureScores = featureScores.sort_values(by='Score', ascending=False)\n",
    "print(featureScores)"
   ]
  },
  {
   "cell_type": "code",
   "execution_count": null,
   "metadata": {
    "colab": {
     "base_uri": "https://localhost:8080/",
     "height": 617
    },
    "id": "uVIIVT1arZ0N",
    "outputId": "af46f6af-5688-4234-bbd9-4c6ef4631798"
   },
   "outputs": [],
   "source": [
    "# Visualize the importance scores\n",
    "fig, ax = plt.subplots(figsize=(15, 10))\n",
    "plot = sns.barplot(data=featureScores, x='Score', y='Feature', palette='coolwarm', linewidth=0.5, saturation=2,\n",
    "                   orient='h')\n",
    "\n",
    "plt.title('Feature Importance',\n",
    "          fontsize=24,\n",
    "          fontweight='bold')"
   ]
  },
  {
   "cell_type": "markdown",
   "metadata": {
    "id": "v5-HCY9MTMB1"
   },
   "source": [
    "## **Lasso**"
   ]
  },
  {
   "cell_type": "code",
   "execution_count": null,
   "metadata": {
    "colab": {
     "base_uri": "https://localhost:8080/"
    },
    "id": "ehEd3CMbGDsL",
    "outputId": "a6f1f6ec-560c-454a-c18d-c52672e2f860"
   },
   "outputs": [],
   "source": [
    "import numpy as np\n",
    "import pandas as pd\n",
    "from sklearn.linear_model import Lasso\n",
    "from sklearn.model_selection import train_test_split\n",
    "from sklearn.ensemble import RandomForestRegressor\n",
    "from sklearn import metrics\n",
    "lasso = Lasso(alpha=0.1)\n",
    "lasso.fit(X_scaled, y_over)\n",
    "coef_abs = np.abs(lasso.coef_)\n",
    "sorted_features = np.argsort(coef_abs)[::-1]\n",
    "k = 10\n",
    "selected_features = sorted_features[:k]\n",
    "feature_names = X.columns\n",
    "print(\"Selected Features:\")\n",
    "for feature in selected_features:\n",
    "    print(f\"- {feature_names[feature]}\")\n",
    "X_train_selected = X_scaled.iloc[:, selected_features]\n",
    "X_test_selected = scaled_X_test.iloc[:, selected_features]"
   ]
  },
  {
   "cell_type": "code",
   "execution_count": null,
   "metadata": {
    "colab": {
     "base_uri": "https://localhost:8080/"
    },
    "id": "nbNSzqVfDrrp",
    "outputId": "5a3c6e73-e96f-47fb-daa8-7d3ce2dab721"
   },
   "outputs": [],
   "source": [
    "from sklearn.linear_model import LinearRegression\n",
    "from mlxtend.feature_selection import SequentialFeatureSelector as SFS\n",
    "\n",
    "# Define the classifier\n",
    "clf = LinearRegression()\n",
    "\n",
    "# Initialize SequentialFeatureSelector for backward selection\n",
    "sfs_backward = SFS(clf,\n",
    "                   k_features='best',\n",
    "                   forward=False,  # for backward selection\n",
    "                   floating=False,\n",
    "                   scoring='r2',\n",
    "                   cv=5)\n",
    "\n",
    "# Fit SFS on your training data\n",
    "sfs_backward = sfs_backward.fit(X_scaled, y_over)\n",
    "\n",
    "# Get the selected feature names\n",
    "selected_features_backward = list(sfs_backward.k_feature_names_)\n",
    "print(\"Selected features (Backward Selection):\")\n",
    "print(selected_features_backward)\n",
    "\n",
    "# Filter your original training and test datasets\n",
    "X_train_selected_b = X_scaled[selected_features_backward]\n",
    "X_test_selected_b = scaled_X_test[selected_features_backward]"
   ]
  },
  {
   "cell_type": "code",
   "execution_count": null,
   "metadata": {
    "colab": {
     "base_uri": "https://localhost:8080/"
    },
    "id": "QDAzZo2nuVRe",
    "outputId": "5825bbd5-29cb-4e5e-a831-20edd9934f00"
   },
   "outputs": [],
   "source": [
    "sfs = SFS(clf,\n",
    "          k_features='best',\n",
    "          forward=True,\n",
    "          floating=True,  # This enables stepwise selection\n",
    "          scoring='r2',\n",
    "          cv=5)\n",
    "\n",
    "# Fit SFS on your training data\n",
    "sfs = sfs.fit(X_scaled, y_over)\n",
    "\n",
    "# Get the selected feature names\n",
    "selected_feature_indices = list(sfs.k_feature_idx_)\n",
    "selected_feature_names = [feature_names[i] for i in selected_feature_indices]\n",
    "print(\"Selected feature names (Stepwise Selection):\")\n",
    "print(selected_feature_names)\n",
    "\n",
    "# Optionally, transform your datasets to contain only selected features\n",
    "X_train_selected_s = sfs.transform(X_scaled)\n",
    "X_test_selected_s = sfs.transform(scaled_X_test)"
   ]
  },
  {
   "cell_type": "markdown",
   "metadata": {
    "id": "Lfxb2oBcaaAu"
   },
   "source": [
    "# **Models**"
   ]
  },
  {
   "cell_type": "markdown",
   "metadata": {
    "id": "7ep6dmTQZf34"
   },
   "source": [
    "## Machine Learning Algorithms"
   ]
  },
  {
   "cell_type": "markdown",
   "metadata": {
    "id": "mjM4922dZo45"
   },
   "source": [
    "### DecisionTree Classifier and RandomForest Classifier"
   ]
  },
  {
   "cell_type": "code",
   "execution_count": null,
   "metadata": {
    "colab": {
     "base_uri": "https://localhost:8080/"
    },
    "id": "kV2Lm4WLEdIz",
    "outputId": "d0603358-859e-42c9-c0d7-36e7ab5d00ed"
   },
   "outputs": [],
   "source": [
    "from sklearn.model_selection import GridSearchCV\n",
    "from sklearn.tree import DecisionTreeClassifier\n",
    "from sklearn.ensemble import RandomForestClassifier\n",
    "from sklearn.pipeline import Pipeline\n",
    "from sklearn.metrics import precision_score, recall_score, f1_score\n",
    "\n",
    "# Define the parameters grid for Decision Tree\n",
    "param_grid_dt = {\n",
    "    'dt_classifier__criterion': ['gini', 'entropy'],\n",
    "    'dt_classifier__max_depth': [None, 10, 20, 30],\n",
    "    'dt_classifier__min_samples_split': [2, 5, 10],\n",
    "    'dt_classifier__min_samples_leaf': [1, 2, 4]\n",
    "}\n",
    "\n",
    "pipeline_dt = Pipeline([('dt_classifier', DecisionTreeClassifier(random_state=42))])\n",
    "pipeline_rf = Pipeline([('rf_classifier', RandomForestClassifier())])\n",
    "\n",
    "# List of all the pipelines\n",
    "pipelines = [pipeline_dt, pipeline_rf]\n",
    "\n",
    "# Dictionary of pipelines and classifier types for ease of reference\n",
    "pipe_dict = {0: 'Decision Tree', 1: 'RandomForest'}\n",
    "\n",
    "# Initialize GridSearchCV for Decision Tree\n",
    "grid_search_dt = GridSearchCV(pipeline_dt, param_grid=param_grid_dt, cv=10, n_jobs=-1)\n",
    "\n",
    "# Fit GridSearchCV\n",
    "grid_search_dt.fit(X_scaled, y_over)\n",
    "\n",
    "# Get the best parameters and best score\n",
    "best_params_dt = grid_search_dt.best_params_\n",
    "best_score_dt = grid_search_dt.best_score_\n",
    "\n",
    "print(\"Best Parameters for Decision Tree:\", best_params_dt)\n",
    "print(\"Best Score for Decision Tree:\", best_score_dt)\n",
    "\n",
    "# Update the Decision Tree pipeline with the best parameters\n",
    "pipeline_dt.set_params(**best_params_dt)\n",
    "\n",
    "# Fit the pipelines\n",
    "for pipe in pipelines:\n",
    "    pipe.fit(X_scaled, y_over)\n",
    "\n",
    "# Add the optimized Decision Tree pipeline to the list of pipelines\n",
    "pipelines[0] = pipeline_dt\n",
    "\n",
    "# Initialize the list to store the cross-validation accuracy scores\n",
    "cv_results_accuracy = []\n",
    "\n",
    "# Now, evaluate the performance of the pipelines with cross-validation and test data\n",
    "for i, model in enumerate(pipelines):\n",
    "    cv_score = cross_val_score(model, X_scaled, y_over, cv=10)\n",
    "    cv_results_accuracy.append(cv_score)\n",
    "    print(\"%s: %f \" % (pipe_dict[i], cv_score.mean()))\n",
    "\n",
    "# Calculate precision, recall, and F1-score for each model\n",
    "precision_scores = []\n",
    "recall_scores = []\n",
    "f1_scores = []\n",
    "\n",
    "for i, model in enumerate(pipelines):\n",
    "    y_pred = model.predict(scaled_X_test)\n",
    "    precision = precision_score(y_test, y_pred, average='macro')\n",
    "    recall = recall_score(y_test, y_pred, average='macro')\n",
    "    f1 = f1_score(y_test, y_pred, average='macro')\n",
    "\n",
    "    # Append the scores to respective lists\n",
    "    precision_scores.append(precision)\n",
    "    recall_scores.append(recall)\n",
    "    f1_scores.append(f1)\n",
    "\n",
    "    # Print the scores for each model\n",
    "    print(f\"{pipe_dict[i]} Precision: {precision:.4f}, Recall: {recall:.4f}, F1-score: {f1:.4f}\")"
   ]
  },
  {
   "cell_type": "markdown",
   "metadata": {
    "id": "nAzPS30mZ80Z"
   },
   "source": [
    "### GridSearchCV"
   ]
  },
  {
   "cell_type": "code",
   "execution_count": null,
   "metadata": {
    "colab": {
     "base_uri": "https://localhost:8080/"
    },
    "id": "ujtbgDekoFP9",
    "outputId": "1d4ecbf7-b861-435d-89ef-0b3ee4b87626"
   },
   "outputs": [],
   "source": [
    "parameters = {\n",
    "    'n_estimators': [100, 200],\n",
    "    'max_features': ['auto', 'sqrt'],\n",
    "    'max_depth' : [4, 8],\n",
    "    'criterion' :['gini', 'entropy'],\n",
    "    'n_jobs':[-1, 1]\n",
    "}\n",
    "\n",
    "CV_rfc = GridSearchCV(estimator=RandomForestClassifier(), param_grid=parameters, cv= 5)\n",
    "CV_rfc.fit(X_scaled, y_over)\n",
    "\n",
    "CV_rfc.best_params_\n"
   ]
  },
  {
   "cell_type": "code",
   "execution_count": null,
   "metadata": {
    "colab": {
     "base_uri": "https://localhost:8080/"
    },
    "id": "Jektn0OSGtNQ",
    "outputId": "3e15829a-91c4-435f-fd4f-997d2dd851bc"
   },
   "outputs": [],
   "source": [
    "RF_model = RandomForestClassifier(**CV_rfc.best_params_)\n",
    "RF_model.fit(X_scaled, y_over)\n",
    "#Testing the Model on test set\n",
    "predictions=RF_model.predict(scaled_X_test)\n",
    "acccuracy= accuracy_score(y_test,predictions)\n",
    "acccuracy"
   ]
  },
  {
   "cell_type": "code",
   "execution_count": null,
   "metadata": {
    "colab": {
     "base_uri": "https://localhost:8080/"
    },
    "id": "4PyIJrlJG4oB",
    "outputId": "d703d782-6af4-4723-adc5-036227c00bc1"
   },
   "outputs": [],
   "source": [
    "from sklearn.metrics import accuracy_score, precision_score, recall_score, f1_score\n",
    "import numpy as np\n",
    "\n",
    "# Assuming y_test and predictions are defined\n",
    "\n",
    "recall = recall_score(y_test, predictions, average=\"weighted\")\n",
    "precision = precision_score(y_test, predictions, average=\"weighted\")\n",
    "f1 = f1_score(y_test, predictions, average=\"micro\")\n",
    "\n",
    "print(\"********* Random Forest Results after GridSearchCv *********\")\n",
    "print(\"Recall:\", recall)\n",
    "print(\"Precision:\", precision)\n",
    "print(\"F1 Score:\", f1)"
   ]
  },
  {
   "cell_type": "code",
   "execution_count": null,
   "metadata": {
    "colab": {
     "base_uri": "https://localhost:8080/"
    },
    "id": "RmabRTtJHFLS",
    "outputId": "7ae632b1-d4c2-413d-be46-fbaf3db2433a"
   },
   "outputs": [],
   "source": [
    "print(classification_report(y_test, predictions))"
   ]
  },
  {
   "cell_type": "code",
   "execution_count": null,
   "metadata": {
    "colab": {
     "base_uri": "https://localhost:8080/",
     "height": 698
    },
    "id": "-0IkTYtrHItA",
    "outputId": "99a42dd6-f966-4162-9512-fec1f1849bc3"
   },
   "outputs": [],
   "source": [
    "# cofusion matrix\n",
    "plt.subplots(figsize=(12,8))\n",
    "cf_matrix = confusion_matrix(y_test, predictions)\n",
    "sns.heatmap(cf_matrix/np.sum(cf_matrix), cmap=cmap,annot = True, annot_kws = {'size':15})"
   ]
  },
  {
   "cell_type": "markdown",
   "metadata": {
    "id": "AFFMIuHLnGcV"
   },
   "source": [
    "# KNN Classifier"
   ]
  },
  {
   "cell_type": "code",
   "execution_count": null,
   "metadata": {
    "colab": {
     "base_uri": "https://localhost:8080/"
    },
    "id": "styxIz--F2re",
    "outputId": "28948955-7568-428e-ec71-d1b0a3509e0d"
   },
   "outputs": [],
   "source": [
    "from sklearn.model_selection import GridSearchCV\n",
    "from sklearn.neighbors import KNeighborsClassifier\n",
    "from sklearn.metrics import accuracy_score, precision_recall_fscore_support\n",
    "\n",
    "# Define the parameter grid\n",
    "param_grid = {\n",
    "    'n_neighbors': [3, 5, 7, 9],  # List of neighbors to try\n",
    "    'weights': ['uniform', 'distance'],  # Weighting schemes to try\n",
    "    'metric': ['euclidean', 'manhattan']  # Distance metrics to try\n",
    "}\n",
    "\n",
    "# Create the KNN classifier\n",
    "knn_clf = KNeighborsClassifier()\n",
    "\n",
    "# Perform GridSearchCV\n",
    "grid_search = GridSearchCV(knn_clf, param_grid, cv=5, scoring='accuracy')\n",
    "\n",
    "# Fit the grid search to the data\n",
    "grid_search.fit(X_over, y_over)\n",
    "\n",
    "# Get the best parameters and the best score\n",
    "best_params = grid_search.best_params_\n",
    "best_score = grid_search.best_score_\n",
    "\n",
    "# Print the best parameters and best score\n",
    "print(\"Best Parameters:\", best_params)\n",
    "print(\"Best Score:\", best_score)\n",
    "\n",
    "# Use the best parameters to train the KNN classifier\n",
    "best_knn_clf = KNeighborsClassifier(**best_params)\n",
    "best_knn_clf.fit(X_over, y_over)\n",
    "\n",
    "# Evaluate the best KNN classifier on the test set\n",
    "y_pred_best_knn = best_knn_clf.predict(X_test)\n",
    "accuracy_best_knn = accuracy_score(y_test, y_pred_best_knn)\n",
    "precision_best_knn, recall_best_knn, fscore_best_knn, _ = precision_recall_fscore_support(y_test, y_pred_best_knn, average='weighted')\n",
    "\n",
    "# Print the results for the best KNN classifier\n",
    "print(\"Accuracy for Best KNN Classifier:\", accuracy_best_knn)\n",
    "print(\"Precision for Best KNN Classifier:\", precision_best_knn)\n",
    "print(\"Recall for Best KNN Classifier:\", recall_best_knn)\n",
    "print(\"F-score for Best KNN Classifier:\", fscore_best_knn)"
   ]
  },
  {
   "cell_type": "markdown",
   "metadata": {
    "id": "D4fvHItPKwle"
   },
   "source": [
    "### SVC Classifier"
   ]
  },
  {
   "cell_type": "code",
   "execution_count": null,
   "metadata": {
    "colab": {
     "base_uri": "https://localhost:8080/"
    },
    "id": "Gtk0DuPYp5SW",
    "outputId": "b418fc78-de6f-4a1a-a489-aa5ce205f5e4"
   },
   "outputs": [],
   "source": [
    "from sklearn.metrics import accuracy_score, precision_score, recall_score, f1_score\n",
    "from sklearn.svm import SVC\n",
    "# Define and train SVC without grid search\n",
    "svc = SVC(random_state=42)\n",
    "svc.fit(X_scaled, y_over)\n",
    "\n",
    "# Predictions\n",
    "y_pred_svc = svc.predict(scaled_X_test)\n",
    "\n",
    "# Metrics calculation\n",
    "accuracy_svc = accuracy_score(y_test, y_pred_svc)\n",
    "precision_svc = precision_score(y_test, y_pred_svc, average='macro')\n",
    "recall_svc = recall_score(y_test, y_pred_svc, average='macro')\n",
    "f1_svc = f1_score(y_test, y_pred_svc, average='macro')\n",
    "\n",
    "# Print metrics\n",
    "print(\"Without GridSearchCV:\")\n",
    "print(f\"Accuracy: {accuracy_svc:.4f}\")\n",
    "print(f\"Precision: {precision_svc:.4f}\")\n",
    "print(f\"Recall: {recall_svc:.4f}\")\n",
    "print(f\"F1-score: {f1_svc:.4f}\")\n"
   ]
  },
  {
   "cell_type": "code",
   "execution_count": null,
   "metadata": {
    "colab": {
     "base_uri": "https://localhost:8080/",
     "height": 1000
    },
    "id": "t9la6Or1Ky72",
    "outputId": "46fcc121-d5a0-4e74-eefa-e7e64cdf4999"
   },
   "outputs": [],
   "source": [
    "from sklearn.svm import SVC\n",
    "param_grid = {'C': [0.1, 1, 10, 100, 1000],\n",
    "              'gamma': [1, 0.1, 0.01, 0.001, 0.0001],\n",
    "              'kernel': ['rbf']}\n",
    "              # ,'linear','sigmoid'\n",
    "\n",
    "grid = GridSearchCV(SVC(random_state=42), param_grid, refit = True, verbose = 3)\n",
    "\n",
    "# fitting the model for grid search\n",
    "grid.fit(X_scaled, y_over)"
   ]
  },
  {
   "cell_type": "code",
   "execution_count": null,
   "metadata": {
    "colab": {
     "base_uri": "https://localhost:8080/"
    },
    "id": "e1gF8iphqsWG",
    "outputId": "42136a1f-4cf4-4e5c-df3b-f742dc8f16db"
   },
   "outputs": [],
   "source": [
    "from sklearn.metrics import precision_score, recall_score, f1_score\n",
    "\n",
    "# Predictions using the best estimator from grid search\n",
    "y_pred_best = grid.best_estimator_.predict(scaled_X_test)\n",
    "\n",
    "# Precision, Recall, and F1-score calculation\n",
    "precision_best = precision_score(y_test, y_pred_best, average='macro')\n",
    "recall_best = recall_score(y_test, y_pred_best, average='macro')\n",
    "f1_best = f1_score(y_test, y_pred_best, average='macro')\n",
    "\n",
    "# Print the best parameters, accuracy, precision, recall, and F1-score\n",
    "print(\"Best parameters found by GridSearchCV:\")\n",
    "print(grid.best_params_)\n",
    "\n",
    "accuracy_with_tuning = grid.best_score_ * 100\n",
    "print(\"Accuracy for our training dataset with tuning is: {:.2f}%\".format(accuracy_with_tuning))\n",
    "\n",
    "print(\"Precision: {:.4f}\".format(precision_best))\n",
    "print(\"Recall: {:.4f}\".format(recall_best))\n",
    "print(\"F1-score: {:.4f}\".format(f1_best))\n"
   ]
  },
  {
   "cell_type": "code",
   "execution_count": null,
   "metadata": {
    "colab": {
     "base_uri": "https://localhost:8080/"
    },
    "id": "JWL-Fw7jK6P_",
    "outputId": "313ea0d0-e8d1-482f-e28d-f63caab4607a"
   },
   "outputs": [],
   "source": [
    "print(classification_report(y_test,grid.best_estimator_.predict(X_test)))"
   ]
  },
  {
   "cell_type": "code",
   "execution_count": null,
   "metadata": {
    "colab": {
     "base_uri": "https://localhost:8080/"
    },
    "id": "nCoMJ0ZpFGvp",
    "outputId": "b0465db6-3835-46e3-9236-87ecc70cf6cc"
   },
   "outputs": [],
   "source": [
    "print(classification_report(y_test,grid.best_estimator_.predict(scaled_X_test)))"
   ]
  },
  {
   "cell_type": "markdown",
   "metadata": {
    "id": "MgoVmTRnS5BT"
   },
   "source": [
    "## Deep Learning Algorithms"
   ]
  },
  {
   "cell_type": "markdown",
   "metadata": {
    "id": "RDaa7w21KpU7"
   },
   "source": [
    "### TabNet Classifier"
   ]
  },
  {
   "cell_type": "code",
   "execution_count": null,
   "metadata": {
    "colab": {
     "base_uri": "https://localhost:8080/"
    },
    "id": "VMVVCotR2DzN",
    "outputId": "865650e5-0475-4fc6-dc3e-b78ff651c8f4"
   },
   "outputs": [],
   "source": [
    "!pip install --upgrade numpy"
   ]
  },
  {
   "cell_type": "code",
   "execution_count": null,
   "metadata": {
    "id": "2xMLMlBcFAj_"
   },
   "outputs": [],
   "source": [
    "from pytorch_tabnet.tab_model import TabNetClassifier\n",
    "from sklearn.metrics import accuracy_score, precision_recall_fscore_support\n"
   ]
  },
  {
   "cell_type": "code",
   "execution_count": null,
   "metadata": {
    "colab": {
     "base_uri": "https://localhost:8080/"
    },
    "id": "2XtTAHQN6Tqe",
    "outputId": "4c9548ad-dcc5-4129-b9b8-0a5a656e59ae"
   },
   "outputs": [],
   "source": [
    "# TabNet\n",
    "\n",
    "# Convert data to numpy arrays\n",
    "X_train_np = X.values\n",
    "y_train_np = y.values\n",
    "X_test_np = X_test.values\n",
    "y_test_np = y_test.values\n",
    "\n",
    "# Define and train TabNet model\n",
    "tabnet_model = TabNetClassifier()\n",
    "tabnet_model.fit(X_train_np, y_train_np, eval_set=[(X_train_np, y_train_np)], patience=10, max_epochs=100)\n",
    "\n",
    "\n",
    "from sklearn.metrics import accuracy_score\n",
    "\n",
    "# Predict on test set\n",
    "y_pred = tabnet_model.predict(X_test_np)\n",
    "\n",
    "# Evaluate accuracy\n",
    "accuracy = accuracy_score(y_test_np, y_pred)\n",
    "print(\"Accuracy:\", accuracy)"
   ]
  },
  {
   "cell_type": "markdown",
   "metadata": {
    "id": "52NuOQCoSifS"
   },
   "source": [
    "### ANN Classifier"
   ]
  },
  {
   "cell_type": "code",
   "execution_count": null,
   "metadata": {
    "colab": {
     "base_uri": "https://localhost:8080/"
    },
    "id": "k9zfNW90yY79",
    "outputId": "9ac2eb3e-ba58-4419-a09c-ac5a2cab04bb"
   },
   "outputs": [],
   "source": [
    "from sklearn.neural_network import MLPClassifier\n",
    "from sklearn.metrics import accuracy_score, precision_score, recall_score, f1_score\n",
    "\n",
    "# Define the ANN classifier\n",
    "ann_classifier = MLPClassifier(random_state=42)\n",
    "\n",
    "# Train the classifier\n",
    "ann_classifier.fit(X_train, y_train)\n",
    "\n",
    "# Make predictions\n",
    "y_pred_ann = ann_classifier.predict(X_test)\n",
    "\n",
    "# Calculate metrics\n",
    "accuracy_ann = accuracy_score(y_test, y_pred_ann)\n",
    "precision_ann = precision_score(y_test, y_pred_ann, average='macro')\n",
    "recall_ann = recall_score(y_test, y_pred_ann, average='macro')\n",
    "f1_ann = f1_score(y_test, y_pred_ann, average='macro')\n",
    "\n",
    "# Print the metrics\n",
    "print(\"Accuracy: {:.4f}\".format(accuracy_ann))\n",
    "print(\"Precision: {:.4f}\".format(precision_ann))\n",
    "print(\"Recall: {:.4f}\".format(recall_ann))\n",
    "print(\"F1-score: {:.4f}\".format(f1_ann))\n"
   ]
  },
  {
   "cell_type": "code",
   "execution_count": null,
   "metadata": {
    "colab": {
     "base_uri": "https://localhost:8080/",
     "height": 727
    },
    "id": "bu8VbaiGlZ67",
    "outputId": "25aebaeb-dbc2-44bd-a97e-627d0cd17b02"
   },
   "outputs": [],
   "source": [
    "from sklearn.metrics import confusion_matrix\n",
    "import seaborn as sns\n",
    "\n",
    "# Confusion Matrix\n",
    "conf_matrix = confusion_matrix(y_test, y_pred_ann)\n",
    "plt.figure(figsize=(10, 8))\n",
    "sns.heatmap(conf_matrix, annot=True, cmap=\"Blues\", fmt=\"d\", xticklabels=ann_classifier.classes_, yticklabels=ann_classifier.classes_)\n",
    "plt.title(\"Confusion Matrix\")\n",
    "plt.xlabel(\"Predicted\")\n",
    "plt.ylabel(\"True\")\n",
    "plt.show()\n"
   ]
  },
  {
   "cell_type": "markdown",
   "metadata": {
    "id": "1k22COyomQO1"
   },
   "source": [
    "# Sequential Neural Network"
   ]
  },
  {
   "cell_type": "code",
   "execution_count": null,
   "metadata": {
    "colab": {
     "base_uri": "https://localhost:8080/"
    },
    "id": "HWH1rU2oGhgs",
    "outputId": "cbca2353-6753-424b-ea64-5becb9d78592"
   },
   "outputs": [],
   "source": [
    "from tensorflow.keras.models import Sequential\n",
    "from tensorflow.keras.layers import Dense, Dropout\n",
    "\n",
    "# Adjust labels to start from 0\n",
    "y_train_adjusted = y_train - 1\n",
    "y_test_adjusted = y_test - 1\n",
    "\n",
    "# Determine the number of classes\n",
    "num_classes = len(set(y_train_adjusted))\n",
    "\n",
    "# Define the model\n",
    "model = Sequential([\n",
    "    Dense(128, activation='relu', input_shape=(X_train.shape[1],)),\n",
    "    Dropout(0.5),\n",
    "    Dense(64, activation='relu'),\n",
    "    Dropout(0.5),\n",
    "    Dense(num_classes, activation='softmax')\n",
    "])\n",
    "\n",
    "# Compile the model\n",
    "model.compile(optimizer='adam', loss='sparse_categorical_crossentropy', metrics=['accuracy'])\n",
    "\n",
    "# Train the model\n",
    "history = model.fit(X_train, y_train_adjusted, epochs=10, batch_size=32, validation_split=0.2)\n",
    "\n",
    "# Evaluate the model on the test set\n",
    "loss, accuracy_transfer = model.evaluate(X_test, y_test_adjusted)\n",
    "\n",
    "# Print the accuracy\n",
    "print(\"Accuracy:\", accuracy_transfer)"
   ]
  },
  {
   "cell_type": "markdown",
   "metadata": {
    "id": "wx-LGC0PVrbK"
   },
   "source": [
    "## Ensemble Learning Algorithms"
   ]
  },
  {
   "cell_type": "markdown",
   "metadata": {
    "id": "EjcTSoCNKsDx"
   },
   "source": [
    "### Voting Classifier"
   ]
  },
  {
   "cell_type": "code",
   "execution_count": null,
   "metadata": {
    "colab": {
     "base_uri": "https://localhost:8080/"
    },
    "id": "RAeCNT7NKriH",
    "outputId": "abe28f98-bc27-4af1-8753-60d644e5e289"
   },
   "outputs": [],
   "source": [
    "from sklearn.linear_model import LogisticRegression\n",
    "from sklearn.tree import DecisionTreeClassifier\n",
    "from sklearn.svm import SVC\n",
    "from sklearn.ensemble import RandomForestClassifier, VotingClassifier\n",
    "from sklearn.metrics import accuracy_score, precision_recall_fscore_support\n",
    "\n",
    "\n",
    "voting_classifier = VotingClassifier(\n",
    "    estimators=[ ('dt', pipeline_dt), ('svc', svc), ('rf', RF_model)],\n",
    "    voting='hard'  # Voting strategy: 'hard' for majority voting, 'soft' for weighted voting\n",
    ")\n",
    "\n",
    "# Train Voting Classifier\n",
    "voting_classifier.fit(X_scaled, y_over)\n",
    "\n",
    "# Make predictions\n",
    "y_pred = voting_classifier.predict(scaled_X_test)\n",
    "\n",
    "# Calculate accuracy\n",
    "accuracy = accuracy_score(y_test, y_pred)\n",
    "\n",
    "# Calculate precision, recall, and F-score\n",
    "precision, recall, fscore, _ = precision_recall_fscore_support(y_test, y_pred, average='weighted')\n",
    "\n",
    "# Print metrics\n",
    "print(\"Accuracy:\", accuracy)\n",
    "print(\"Precision:\", precision)\n",
    "print(\"Recall:\", recall)\n",
    "print(\"F-score:\", fscore)\n"
   ]
  },
  {
   "cell_type": "markdown",
   "metadata": {
    "id": "I5OHWYPASPKN"
   },
   "source": [
    "### AdaBoost Classifier"
   ]
  },
  {
   "cell_type": "code",
   "execution_count": null,
   "metadata": {
    "colab": {
     "base_uri": "https://localhost:8080/"
    },
    "id": "2ZpgJFmHWrxn",
    "outputId": "52f7db26-944c-4800-8232-b45d2b7324b3"
   },
   "outputs": [],
   "source": [
    "from sklearn.ensemble import AdaBoostClassifier\n",
    "from sklearn.metrics import accuracy_score, precision_recall_fscore_support\n",
    "from sklearn.tree import DecisionTreeClassifier\n",
    "\n",
    "# Define the base estimator\n",
    "base_estimator = DecisionTreeClassifier(random_state=42)\n",
    "\n",
    "# Initialize AdaBoostClassifier\n",
    "adaboost_model = AdaBoostClassifier(base_estimator=base_estimator, n_estimators=100, random_state=42)\n",
    "\n",
    "# Train AdaBoostClassifier\n",
    "adaboost_model.fit(X_scaled, y_over)\n",
    "\n",
    "# Make predictions\n",
    "y_pred = adaboost_model.predict(scaled_X_test)\n",
    "\n",
    "# Calculate accuracy\n",
    "accuracy = accuracy_score(y_test, y_pred)\n",
    "\n",
    "# Calculate precision, recall, and F-score\n",
    "precision, recall, fscore, _ = precision_recall_fscore_support(y_test, y_pred, average='weighted')\n",
    "\n",
    "# Print metrics\n",
    "print(\"Evaluation Metrics for AdaBoost Model:\")\n",
    "print(\"Accuracy:\", accuracy)\n",
    "print(\"Precision:\", precision)\n",
    "print(\"Recall:\", recall)\n",
    "print(\"F-score:\", fscore)"
   ]
  },
  {
   "cell_type": "markdown",
   "metadata": {
    "id": "SSLgKG9fSKqx"
   },
   "source": [
    "### Bagging Classifier"
   ]
  },
  {
   "cell_type": "code",
   "execution_count": null,
   "metadata": {
    "colab": {
     "base_uri": "https://localhost:8080/"
    },
    "id": "syh5HwCXZilX",
    "outputId": "a04c78e9-8cce-4987-ea80-93b370669c0a"
   },
   "outputs": [],
   "source": [
    "from sklearn.ensemble import BaggingClassifier\n",
    "from sklearn.tree import DecisionTreeClassifier\n",
    "from sklearn.metrics import accuracy_score, precision_score, recall_score, f1_score\n",
    "\n",
    "# Define the base classifier\n",
    "base_classifier = DecisionTreeClassifier(random_state=42)\n",
    "\n",
    "# Initialize the BaggingClassifier with the base classifier\n",
    "bagging_model = BaggingClassifier(\n",
    "    base_estimator=base_classifier,\n",
    "    n_estimators=10,  # Number of base classifiers in the ensemble\n",
    "    random_state=42\n",
    ")\n",
    "\n",
    "# Fit the BaggingClassifier\n",
    "bagging_model.fit(X_scaled, y_over)\n",
    "\n",
    "# Make predictions\n",
    "y_pred_bagging = bagging_model.predict(scaled_X_test)\n",
    "\n",
    "# Calculate evaluation metrics\n",
    "accuracy = accuracy_score(y_test, y_pred_bagging)\n",
    "precision = precision_score(y_test, y_pred_bagging, average=\"weighted\")\n",
    "recall = recall_score(y_test, y_pred_bagging, average=\"weighted\")\n",
    "f1 = f1_score(y_test, y_pred_bagging, average=\"weighted\")\n",
    "\n",
    "# Print evaluation metrics\n",
    "print(\"Evaluation Metrics for Bagging Model:\")\n",
    "print(f\"Accuracy: {accuracy:.4f}\")\n",
    "print(f\"Precision: {precision:.4f}\")\n",
    "print(f\"Recall: {recall:.4f}\")\n",
    "print(f\"F1 Score: {f1:.4f}\")"
   ]
  },
  {
   "cell_type": "markdown",
   "metadata": {
    "id": "2LE6KBscSDCF"
   },
   "source": [
    "### Stacking Classifier\n"
   ]
  },
  {
   "cell_type": "code",
   "execution_count": null,
   "metadata": {
    "colab": {
     "base_uri": "https://localhost:8080/"
    },
    "id": "U-fZRURm8lkS",
    "outputId": "eceeadc8-8be6-4f52-9939-b3d913af0c3c"
   },
   "outputs": [],
   "source": [
    "from sklearn.ensemble import StackingClassifier\n",
    "from sklearn.linear_model import LogisticRegression\n",
    "from sklearn.ensemble import RandomForestClassifier\n",
    "from sklearn.tree import DecisionTreeClassifier\n",
    "from sklearn.svm import SVC\n",
    "from sklearn.metrics import accuracy_score\n",
    "stacking_model = StackingClassifier(\n",
    "    estimators=[\n",
    "        ('rf', RF_model),\n",
    "        ('dt', pipeline_dt),\n",
    "        ('SVC', grid)\n",
    "    ],\n",
    "    final_estimator=LogisticRegression()\n",
    ")\n",
    "stacking_model.fit(X_scaled, y_over)\n",
    "y_pred_stacking = stacking_model.predict(scaled_X_test)\n",
    "accuracy_stacking = accuracy_score(y_test, y_pred_stacking)\n",
    "print(\"Accuracy for Stacking Model:\", accuracy_stacking)\n",
    "\n",
    "from sklearn.metrics import precision_recall_fscore_support\n",
    "\n",
    "# Calculate precision, recall, and F-score\n",
    "precision, recall, fscore, _ = precision_recall_fscore_support(y_test, y_pred_stacking, average='weighted')\n",
    "\n",
    "# Print precision, recall, and F-score\n",
    "print(\"Precision:\", precision)\n",
    "print(\"Recall:\", recall)\n",
    "print(\"F-score:\", fscore)"
   ]
  },
  {
   "cell_type": "code",
   "execution_count": null,
   "metadata": {
    "colab": {
     "base_uri": "https://localhost:8080/"
    },
    "id": "GKO2HmL6Vzee",
    "outputId": "9d6330b0-a070-4b5c-89c7-415847d2919b"
   },
   "outputs": [],
   "source": [
    "import pandas as pd\n",
    "from sklearn.ensemble import AdaBoostClassifier\n",
    "from sklearn.tree import DecisionTreeClassifier\n",
    "from sklearn.model_selection import train_test_split, cross_val_score\n",
    "from sklearn.metrics import accuracy_score, precision_recall_fscore_support\n",
    "\n",
    "# Create the AdaBoost Classifier\n",
    "base_estimator = DecisionTreeClassifier(random_state=42)\n",
    "ada_clf = AdaBoostClassifier(base_estimator=base_estimator, n_estimators=100, random_state=42)\n",
    "\n",
    "# Train the AdaBoost Classifier\n",
    "ada_clf.fit(X_over, y_over)\n",
    "\n",
    "# Evaluate the model using cross-validation\n",
    "cv_scores = cross_val_score(ada_clf, X, y, cv=5)\n",
    "print(\"Cross-Validation Scores:\", cv_scores)\n",
    "print(\"Cross-Validation Mean Accuracy:\", cv_scores.mean())\n",
    "\n",
    "# Evaluate the model on the test set\n",
    "y_pred_ada = ada_clf.predict(X_test)\n",
    "accuracy_ada = accuracy_score(y_test, y_pred_ada)\n",
    "precision, recall, fscore, _ = precision_recall_fscore_support(y_test, y_pred_ada, average='weighted')\n",
    "\n",
    "# Print the results\n",
    "print(\"Accuracy for AdaBoost:\", accuracy_ada)\n",
    "print(\"Precision:\", precision)\n",
    "print(\"Recall:\", recall)\n",
    "print(\"F-score:\", fscore)"
   ]
  }
 ],
 "metadata": {
  "colab": {
   "gpuType": "T4",
   "provenance": []
  },
  "kernelspec": {
   "display_name": "Python 3",
   "language": "python",
   "name": "python3"
  },
  "language_info": {
   "codemirror_mode": {
    "name": "ipython",
    "version": 3
   },
   "file_extension": ".py",
   "mimetype": "text/x-python",
   "name": "python",
   "nbconvert_exporter": "python",
   "pygments_lexer": "ipython3",
   "version": "3.13.2"
  }
 },
 "nbformat": 4,
 "nbformat_minor": 4
}
